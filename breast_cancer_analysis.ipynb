{
  "nbformat": 4,
  "nbformat_minor": 0,
  "metadata": {
    "colab": {
      "provenance": [],
      "collapsed_sections": [
        "XZ8opNoqzDX3",
        "YZcSYA90TPSZ",
        "XLB8yXzr2uwK",
        "mM0AWVbAaoDY"
      ]
    },
    "kernelspec": {
      "name": "ir",
      "display_name": "R"
    },
    "language_info": {
      "name": "R"
    }
  },
  "cells": [
    {
      "cell_type": "markdown",
      "source": [
        "# **1. Dane studenta.**\n",
        "\n",
        "Olga Krużyńska, 151919"
      ],
      "metadata": {
        "id": "0tuZEblYynE2"
      }
    },
    {
      "cell_type": "markdown",
      "source": [
        "# **2. Informacje o zbiorze danych.**\n",
        "\n",
        "Baza danych została znaleziona dzięki stronie https://www.kaggle.com/datasets. Pełny link prowadzący bezpośrednio do zbioru znajduje się na końcu opisu.\n",
        "\n",
        "Badany zbiór danych zawiera informacje o parametrach komórek guzów piersi. Każdy wynik w tabeli to uśredniona wartość z komórek pobranych od danego pacjenta.\n",
        "W tej analizie skupię się głównie na kolumnach mean_radius, odpowiadająca za promień komórki, mean_perimeter (obwód), mean_area (powierzchnia) oraz diagnosis, która informuje o postawionej diagnozie (czy guz został uznany za złośliwy (0) czy łagodny (1)).\n",
        "W bazie danych znajduje się jeszcze kolumna mean_smoothness odpowiadająca za lokalne zmiany w długości promienia oraz mean_texture jednak nie będziemy się na nich skupiać podczas analizy.\n",
        "\n",
        "\n",
        "Dane zostały zebrane z badań rzeczywistych pacjentów ze szpitala uniwersyteckiego UW Health. Szpital znajduje się na kampusie Uniwersytetu Wisconsin-Madison w Madison w stanie Wisconsin. Dane posłużą do porównania nowotworów piersi złośliwych i łagodnych.\n",
        "\n",
        "\n",
        "Link:\n",
        "https://www.kaggle.com/datasets/merishnasuwal/breast-cancer-prediction-dataset?resource=download&fbclid=IwAR0Ik-Gdmv_KKlXLcyOR1Kv216YQUL7-RlKSePsqWZ7KxJ7dVd3FER2KUcE"
      ],
      "metadata": {
        "id": "XZ8opNoqzDX3"
      }
    },
    {
      "cell_type": "code",
      "execution_count": 1,
      "metadata": {
        "id": "l7kp-16EtXZr",
        "colab": {
          "base_uri": "https://localhost:8080/",
          "height": 1000
        },
        "outputId": "a0ebac72-01f5-4367-aa98-3ba027c9b608"
      },
      "outputs": [
        {
          "output_type": "display_data",
          "data": {
            "text/html": [
              "<table class=\"dataframe\">\n",
              "<caption>A tibble: 569 × 6</caption>\n",
              "<thead>\n",
              "\t<tr><th scope=col>mean_radius</th><th scope=col>mean_texture</th><th scope=col>mean_perimeter</th><th scope=col>mean_area</th><th scope=col>mean_smoothness</th><th scope=col>diagnosis</th></tr>\n",
              "\t<tr><th scope=col>&lt;dbl&gt;</th><th scope=col>&lt;dbl&gt;</th><th scope=col>&lt;dbl&gt;</th><th scope=col>&lt;dbl&gt;</th><th scope=col>&lt;dbl&gt;</th><th scope=col>&lt;dbl&gt;</th></tr>\n",
              "</thead>\n",
              "<tbody>\n",
              "\t<tr><td>17.990</td><td>10.38</td><td>122.80</td><td>1001.0</td><td>0.11840</td><td>0</td></tr>\n",
              "\t<tr><td>20.570</td><td>17.77</td><td>132.90</td><td>1326.0</td><td>0.08474</td><td>0</td></tr>\n",
              "\t<tr><td>19.690</td><td>21.25</td><td>130.00</td><td>1203.0</td><td>0.10960</td><td>0</td></tr>\n",
              "\t<tr><td>11.420</td><td>20.38</td><td> 77.58</td><td> 386.1</td><td>0.14250</td><td>0</td></tr>\n",
              "\t<tr><td>20.290</td><td>14.34</td><td>135.10</td><td>1297.0</td><td>0.10030</td><td>0</td></tr>\n",
              "\t<tr><td>12.450</td><td>15.70</td><td> 82.57</td><td> 477.1</td><td>0.12780</td><td>0</td></tr>\n",
              "\t<tr><td>18.250</td><td>19.98</td><td>119.60</td><td>1040.0</td><td>0.09463</td><td>0</td></tr>\n",
              "\t<tr><td>13.710</td><td>20.83</td><td> 90.20</td><td> 577.9</td><td>0.11890</td><td>0</td></tr>\n",
              "\t<tr><td>13.000</td><td>21.82</td><td> 87.50</td><td> 519.8</td><td>0.12730</td><td>0</td></tr>\n",
              "\t<tr><td>12.460</td><td>24.04</td><td> 83.97</td><td> 475.9</td><td>0.11860</td><td>0</td></tr>\n",
              "\t<tr><td>16.020</td><td>23.24</td><td>102.70</td><td> 797.8</td><td>0.08206</td><td>0</td></tr>\n",
              "\t<tr><td>15.780</td><td>17.89</td><td>103.60</td><td> 781.0</td><td>0.09710</td><td>0</td></tr>\n",
              "\t<tr><td>19.170</td><td>24.80</td><td>132.40</td><td>1123.0</td><td>0.09740</td><td>0</td></tr>\n",
              "\t<tr><td>15.850</td><td>23.95</td><td>103.70</td><td> 782.7</td><td>0.08401</td><td>0</td></tr>\n",
              "\t<tr><td>13.730</td><td>22.61</td><td> 93.60</td><td> 578.3</td><td>0.11310</td><td>0</td></tr>\n",
              "\t<tr><td>14.540</td><td>27.54</td><td> 96.73</td><td> 658.8</td><td>0.11390</td><td>0</td></tr>\n",
              "\t<tr><td>14.680</td><td>20.13</td><td> 94.74</td><td> 684.5</td><td>0.09867</td><td>0</td></tr>\n",
              "\t<tr><td>16.130</td><td>20.68</td><td>108.10</td><td> 798.8</td><td>0.11700</td><td>0</td></tr>\n",
              "\t<tr><td>19.810</td><td>22.15</td><td>130.00</td><td>1260.0</td><td>0.09831</td><td>0</td></tr>\n",
              "\t<tr><td>13.540</td><td>14.36</td><td> 87.46</td><td> 566.3</td><td>0.09779</td><td>1</td></tr>\n",
              "\t<tr><td>13.080</td><td>15.71</td><td> 85.63</td><td> 520.0</td><td>0.10750</td><td>1</td></tr>\n",
              "\t<tr><td> 9.504</td><td>12.44</td><td> 60.34</td><td> 273.9</td><td>0.10240</td><td>1</td></tr>\n",
              "\t<tr><td>15.340</td><td>14.26</td><td>102.50</td><td> 704.4</td><td>0.10730</td><td>0</td></tr>\n",
              "\t<tr><td>21.160</td><td>23.04</td><td>137.20</td><td>1404.0</td><td>0.09428</td><td>0</td></tr>\n",
              "\t<tr><td>16.650</td><td>21.38</td><td>110.00</td><td> 904.6</td><td>0.11210</td><td>0</td></tr>\n",
              "\t<tr><td>17.140</td><td>16.40</td><td>116.00</td><td> 912.7</td><td>0.11860</td><td>0</td></tr>\n",
              "\t<tr><td>14.580</td><td>21.53</td><td> 97.41</td><td> 644.8</td><td>0.10540</td><td>0</td></tr>\n",
              "\t<tr><td>18.610</td><td>20.25</td><td>122.10</td><td>1094.0</td><td>0.09440</td><td>0</td></tr>\n",
              "\t<tr><td>15.300</td><td>25.27</td><td>102.40</td><td> 732.4</td><td>0.10820</td><td>0</td></tr>\n",
              "\t<tr><td>17.570</td><td>15.05</td><td>115.00</td><td> 955.1</td><td>0.09847</td><td>0</td></tr>\n",
              "\t<tr><td>⋮</td><td>⋮</td><td>⋮</td><td>⋮</td><td>⋮</td><td>⋮</td></tr>\n",
              "\t<tr><td> 7.691</td><td>25.44</td><td> 48.34</td><td> 170.4</td><td>0.08668</td><td>1</td></tr>\n",
              "\t<tr><td>11.540</td><td>14.44</td><td> 74.65</td><td> 402.9</td><td>0.09984</td><td>1</td></tr>\n",
              "\t<tr><td>14.470</td><td>24.99</td><td> 95.81</td><td> 656.4</td><td>0.08837</td><td>1</td></tr>\n",
              "\t<tr><td>14.740</td><td>25.42</td><td> 94.70</td><td> 668.6</td><td>0.08275</td><td>1</td></tr>\n",
              "\t<tr><td>13.210</td><td>28.06</td><td> 84.88</td><td> 538.4</td><td>0.08671</td><td>1</td></tr>\n",
              "\t<tr><td>13.870</td><td>20.70</td><td> 89.77</td><td> 584.8</td><td>0.09578</td><td>1</td></tr>\n",
              "\t<tr><td>13.620</td><td>23.23</td><td> 87.19</td><td> 573.2</td><td>0.09246</td><td>1</td></tr>\n",
              "\t<tr><td>10.320</td><td>16.35</td><td> 65.31</td><td> 324.9</td><td>0.09434</td><td>1</td></tr>\n",
              "\t<tr><td>10.260</td><td>16.58</td><td> 65.85</td><td> 320.8</td><td>0.08877</td><td>1</td></tr>\n",
              "\t<tr><td> 9.683</td><td>19.34</td><td> 61.05</td><td> 285.7</td><td>0.08491</td><td>1</td></tr>\n",
              "\t<tr><td>10.820</td><td>24.21</td><td> 68.89</td><td> 361.6</td><td>0.08192</td><td>1</td></tr>\n",
              "\t<tr><td>10.860</td><td>21.48</td><td> 68.51</td><td> 360.5</td><td>0.07431</td><td>1</td></tr>\n",
              "\t<tr><td>11.130</td><td>22.44</td><td> 71.49</td><td> 378.4</td><td>0.09566</td><td>1</td></tr>\n",
              "\t<tr><td>12.770</td><td>29.43</td><td> 81.35</td><td> 507.9</td><td>0.08276</td><td>1</td></tr>\n",
              "\t<tr><td> 9.333</td><td>21.94</td><td> 59.01</td><td> 264.0</td><td>0.09240</td><td>1</td></tr>\n",
              "\t<tr><td>12.880</td><td>28.92</td><td> 82.50</td><td> 514.3</td><td>0.08123</td><td>1</td></tr>\n",
              "\t<tr><td>10.290</td><td>27.61</td><td> 65.67</td><td> 321.4</td><td>0.09030</td><td>1</td></tr>\n",
              "\t<tr><td>10.160</td><td>19.59</td><td> 64.73</td><td> 311.7</td><td>0.10030</td><td>1</td></tr>\n",
              "\t<tr><td> 9.423</td><td>27.88</td><td> 59.26</td><td> 271.3</td><td>0.08123</td><td>1</td></tr>\n",
              "\t<tr><td>14.590</td><td>22.68</td><td> 96.39</td><td> 657.1</td><td>0.08473</td><td>1</td></tr>\n",
              "\t<tr><td>11.510</td><td>23.93</td><td> 74.52</td><td> 403.5</td><td>0.09261</td><td>1</td></tr>\n",
              "\t<tr><td>14.050</td><td>27.15</td><td> 91.38</td><td> 600.4</td><td>0.09929</td><td>1</td></tr>\n",
              "\t<tr><td>11.200</td><td>29.37</td><td> 70.67</td><td> 386.0</td><td>0.07449</td><td>1</td></tr>\n",
              "\t<tr><td>15.220</td><td>30.62</td><td>103.40</td><td> 716.9</td><td>0.10480</td><td>0</td></tr>\n",
              "\t<tr><td>20.920</td><td>25.09</td><td>143.00</td><td>1347.0</td><td>0.10990</td><td>0</td></tr>\n",
              "\t<tr><td>21.560</td><td>22.39</td><td>142.00</td><td>1479.0</td><td>0.11100</td><td>0</td></tr>\n",
              "\t<tr><td>20.130</td><td>28.25</td><td>131.20</td><td>1261.0</td><td>0.09780</td><td>0</td></tr>\n",
              "\t<tr><td>16.600</td><td>28.08</td><td>108.30</td><td> 858.1</td><td>0.08455</td><td>0</td></tr>\n",
              "\t<tr><td>20.600</td><td>29.33</td><td>140.10</td><td>1265.0</td><td>0.11780</td><td>0</td></tr>\n",
              "\t<tr><td> 7.760</td><td>24.54</td><td> 47.92</td><td> 181.0</td><td>0.05263</td><td>1</td></tr>\n",
              "</tbody>\n",
              "</table>\n"
            ],
            "text/markdown": "\nA tibble: 569 × 6\n\n| mean_radius &lt;dbl&gt; | mean_texture &lt;dbl&gt; | mean_perimeter &lt;dbl&gt; | mean_area &lt;dbl&gt; | mean_smoothness &lt;dbl&gt; | diagnosis &lt;dbl&gt; |\n|---|---|---|---|---|---|\n| 17.990 | 10.38 | 122.80 | 1001.0 | 0.11840 | 0 |\n| 20.570 | 17.77 | 132.90 | 1326.0 | 0.08474 | 0 |\n| 19.690 | 21.25 | 130.00 | 1203.0 | 0.10960 | 0 |\n| 11.420 | 20.38 |  77.58 |  386.1 | 0.14250 | 0 |\n| 20.290 | 14.34 | 135.10 | 1297.0 | 0.10030 | 0 |\n| 12.450 | 15.70 |  82.57 |  477.1 | 0.12780 | 0 |\n| 18.250 | 19.98 | 119.60 | 1040.0 | 0.09463 | 0 |\n| 13.710 | 20.83 |  90.20 |  577.9 | 0.11890 | 0 |\n| 13.000 | 21.82 |  87.50 |  519.8 | 0.12730 | 0 |\n| 12.460 | 24.04 |  83.97 |  475.9 | 0.11860 | 0 |\n| 16.020 | 23.24 | 102.70 |  797.8 | 0.08206 | 0 |\n| 15.780 | 17.89 | 103.60 |  781.0 | 0.09710 | 0 |\n| 19.170 | 24.80 | 132.40 | 1123.0 | 0.09740 | 0 |\n| 15.850 | 23.95 | 103.70 |  782.7 | 0.08401 | 0 |\n| 13.730 | 22.61 |  93.60 |  578.3 | 0.11310 | 0 |\n| 14.540 | 27.54 |  96.73 |  658.8 | 0.11390 | 0 |\n| 14.680 | 20.13 |  94.74 |  684.5 | 0.09867 | 0 |\n| 16.130 | 20.68 | 108.10 |  798.8 | 0.11700 | 0 |\n| 19.810 | 22.15 | 130.00 | 1260.0 | 0.09831 | 0 |\n| 13.540 | 14.36 |  87.46 |  566.3 | 0.09779 | 1 |\n| 13.080 | 15.71 |  85.63 |  520.0 | 0.10750 | 1 |\n|  9.504 | 12.44 |  60.34 |  273.9 | 0.10240 | 1 |\n| 15.340 | 14.26 | 102.50 |  704.4 | 0.10730 | 0 |\n| 21.160 | 23.04 | 137.20 | 1404.0 | 0.09428 | 0 |\n| 16.650 | 21.38 | 110.00 |  904.6 | 0.11210 | 0 |\n| 17.140 | 16.40 | 116.00 |  912.7 | 0.11860 | 0 |\n| 14.580 | 21.53 |  97.41 |  644.8 | 0.10540 | 0 |\n| 18.610 | 20.25 | 122.10 | 1094.0 | 0.09440 | 0 |\n| 15.300 | 25.27 | 102.40 |  732.4 | 0.10820 | 0 |\n| 17.570 | 15.05 | 115.00 |  955.1 | 0.09847 | 0 |\n| ⋮ | ⋮ | ⋮ | ⋮ | ⋮ | ⋮ |\n|  7.691 | 25.44 |  48.34 |  170.4 | 0.08668 | 1 |\n| 11.540 | 14.44 |  74.65 |  402.9 | 0.09984 | 1 |\n| 14.470 | 24.99 |  95.81 |  656.4 | 0.08837 | 1 |\n| 14.740 | 25.42 |  94.70 |  668.6 | 0.08275 | 1 |\n| 13.210 | 28.06 |  84.88 |  538.4 | 0.08671 | 1 |\n| 13.870 | 20.70 |  89.77 |  584.8 | 0.09578 | 1 |\n| 13.620 | 23.23 |  87.19 |  573.2 | 0.09246 | 1 |\n| 10.320 | 16.35 |  65.31 |  324.9 | 0.09434 | 1 |\n| 10.260 | 16.58 |  65.85 |  320.8 | 0.08877 | 1 |\n|  9.683 | 19.34 |  61.05 |  285.7 | 0.08491 | 1 |\n| 10.820 | 24.21 |  68.89 |  361.6 | 0.08192 | 1 |\n| 10.860 | 21.48 |  68.51 |  360.5 | 0.07431 | 1 |\n| 11.130 | 22.44 |  71.49 |  378.4 | 0.09566 | 1 |\n| 12.770 | 29.43 |  81.35 |  507.9 | 0.08276 | 1 |\n|  9.333 | 21.94 |  59.01 |  264.0 | 0.09240 | 1 |\n| 12.880 | 28.92 |  82.50 |  514.3 | 0.08123 | 1 |\n| 10.290 | 27.61 |  65.67 |  321.4 | 0.09030 | 1 |\n| 10.160 | 19.59 |  64.73 |  311.7 | 0.10030 | 1 |\n|  9.423 | 27.88 |  59.26 |  271.3 | 0.08123 | 1 |\n| 14.590 | 22.68 |  96.39 |  657.1 | 0.08473 | 1 |\n| 11.510 | 23.93 |  74.52 |  403.5 | 0.09261 | 1 |\n| 14.050 | 27.15 |  91.38 |  600.4 | 0.09929 | 1 |\n| 11.200 | 29.37 |  70.67 |  386.0 | 0.07449 | 1 |\n| 15.220 | 30.62 | 103.40 |  716.9 | 0.10480 | 0 |\n| 20.920 | 25.09 | 143.00 | 1347.0 | 0.10990 | 0 |\n| 21.560 | 22.39 | 142.00 | 1479.0 | 0.11100 | 0 |\n| 20.130 | 28.25 | 131.20 | 1261.0 | 0.09780 | 0 |\n| 16.600 | 28.08 | 108.30 |  858.1 | 0.08455 | 0 |\n| 20.600 | 29.33 | 140.10 | 1265.0 | 0.11780 | 0 |\n|  7.760 | 24.54 |  47.92 |  181.0 | 0.05263 | 1 |\n\n",
            "text/latex": "A tibble: 569 × 6\n\\begin{tabular}{llllll}\n mean\\_radius & mean\\_texture & mean\\_perimeter & mean\\_area & mean\\_smoothness & diagnosis\\\\\n <dbl> & <dbl> & <dbl> & <dbl> & <dbl> & <dbl>\\\\\n\\hline\n\t 17.990 & 10.38 & 122.80 & 1001.0 & 0.11840 & 0\\\\\n\t 20.570 & 17.77 & 132.90 & 1326.0 & 0.08474 & 0\\\\\n\t 19.690 & 21.25 & 130.00 & 1203.0 & 0.10960 & 0\\\\\n\t 11.420 & 20.38 &  77.58 &  386.1 & 0.14250 & 0\\\\\n\t 20.290 & 14.34 & 135.10 & 1297.0 & 0.10030 & 0\\\\\n\t 12.450 & 15.70 &  82.57 &  477.1 & 0.12780 & 0\\\\\n\t 18.250 & 19.98 & 119.60 & 1040.0 & 0.09463 & 0\\\\\n\t 13.710 & 20.83 &  90.20 &  577.9 & 0.11890 & 0\\\\\n\t 13.000 & 21.82 &  87.50 &  519.8 & 0.12730 & 0\\\\\n\t 12.460 & 24.04 &  83.97 &  475.9 & 0.11860 & 0\\\\\n\t 16.020 & 23.24 & 102.70 &  797.8 & 0.08206 & 0\\\\\n\t 15.780 & 17.89 & 103.60 &  781.0 & 0.09710 & 0\\\\\n\t 19.170 & 24.80 & 132.40 & 1123.0 & 0.09740 & 0\\\\\n\t 15.850 & 23.95 & 103.70 &  782.7 & 0.08401 & 0\\\\\n\t 13.730 & 22.61 &  93.60 &  578.3 & 0.11310 & 0\\\\\n\t 14.540 & 27.54 &  96.73 &  658.8 & 0.11390 & 0\\\\\n\t 14.680 & 20.13 &  94.74 &  684.5 & 0.09867 & 0\\\\\n\t 16.130 & 20.68 & 108.10 &  798.8 & 0.11700 & 0\\\\\n\t 19.810 & 22.15 & 130.00 & 1260.0 & 0.09831 & 0\\\\\n\t 13.540 & 14.36 &  87.46 &  566.3 & 0.09779 & 1\\\\\n\t 13.080 & 15.71 &  85.63 &  520.0 & 0.10750 & 1\\\\\n\t  9.504 & 12.44 &  60.34 &  273.9 & 0.10240 & 1\\\\\n\t 15.340 & 14.26 & 102.50 &  704.4 & 0.10730 & 0\\\\\n\t 21.160 & 23.04 & 137.20 & 1404.0 & 0.09428 & 0\\\\\n\t 16.650 & 21.38 & 110.00 &  904.6 & 0.11210 & 0\\\\\n\t 17.140 & 16.40 & 116.00 &  912.7 & 0.11860 & 0\\\\\n\t 14.580 & 21.53 &  97.41 &  644.8 & 0.10540 & 0\\\\\n\t 18.610 & 20.25 & 122.10 & 1094.0 & 0.09440 & 0\\\\\n\t 15.300 & 25.27 & 102.40 &  732.4 & 0.10820 & 0\\\\\n\t 17.570 & 15.05 & 115.00 &  955.1 & 0.09847 & 0\\\\\n\t ⋮ & ⋮ & ⋮ & ⋮ & ⋮ & ⋮\\\\\n\t  7.691 & 25.44 &  48.34 &  170.4 & 0.08668 & 1\\\\\n\t 11.540 & 14.44 &  74.65 &  402.9 & 0.09984 & 1\\\\\n\t 14.470 & 24.99 &  95.81 &  656.4 & 0.08837 & 1\\\\\n\t 14.740 & 25.42 &  94.70 &  668.6 & 0.08275 & 1\\\\\n\t 13.210 & 28.06 &  84.88 &  538.4 & 0.08671 & 1\\\\\n\t 13.870 & 20.70 &  89.77 &  584.8 & 0.09578 & 1\\\\\n\t 13.620 & 23.23 &  87.19 &  573.2 & 0.09246 & 1\\\\\n\t 10.320 & 16.35 &  65.31 &  324.9 & 0.09434 & 1\\\\\n\t 10.260 & 16.58 &  65.85 &  320.8 & 0.08877 & 1\\\\\n\t  9.683 & 19.34 &  61.05 &  285.7 & 0.08491 & 1\\\\\n\t 10.820 & 24.21 &  68.89 &  361.6 & 0.08192 & 1\\\\\n\t 10.860 & 21.48 &  68.51 &  360.5 & 0.07431 & 1\\\\\n\t 11.130 & 22.44 &  71.49 &  378.4 & 0.09566 & 1\\\\\n\t 12.770 & 29.43 &  81.35 &  507.9 & 0.08276 & 1\\\\\n\t  9.333 & 21.94 &  59.01 &  264.0 & 0.09240 & 1\\\\\n\t 12.880 & 28.92 &  82.50 &  514.3 & 0.08123 & 1\\\\\n\t 10.290 & 27.61 &  65.67 &  321.4 & 0.09030 & 1\\\\\n\t 10.160 & 19.59 &  64.73 &  311.7 & 0.10030 & 1\\\\\n\t  9.423 & 27.88 &  59.26 &  271.3 & 0.08123 & 1\\\\\n\t 14.590 & 22.68 &  96.39 &  657.1 & 0.08473 & 1\\\\\n\t 11.510 & 23.93 &  74.52 &  403.5 & 0.09261 & 1\\\\\n\t 14.050 & 27.15 &  91.38 &  600.4 & 0.09929 & 1\\\\\n\t 11.200 & 29.37 &  70.67 &  386.0 & 0.07449 & 1\\\\\n\t 15.220 & 30.62 & 103.40 &  716.9 & 0.10480 & 0\\\\\n\t 20.920 & 25.09 & 143.00 & 1347.0 & 0.10990 & 0\\\\\n\t 21.560 & 22.39 & 142.00 & 1479.0 & 0.11100 & 0\\\\\n\t 20.130 & 28.25 & 131.20 & 1261.0 & 0.09780 & 0\\\\\n\t 16.600 & 28.08 & 108.30 &  858.1 & 0.08455 & 0\\\\\n\t 20.600 & 29.33 & 140.10 & 1265.0 & 0.11780 & 0\\\\\n\t  7.760 & 24.54 &  47.92 &  181.0 & 0.05263 & 1\\\\\n\\end{tabular}\n",
            "text/plain": [
              "    mean_radius mean_texture mean_perimeter mean_area mean_smoothness diagnosis\n",
              "1   17.990      10.38        122.80         1001.0    0.11840         0        \n",
              "2   20.570      17.77        132.90         1326.0    0.08474         0        \n",
              "3   19.690      21.25        130.00         1203.0    0.10960         0        \n",
              "4   11.420      20.38         77.58          386.1    0.14250         0        \n",
              "5   20.290      14.34        135.10         1297.0    0.10030         0        \n",
              "6   12.450      15.70         82.57          477.1    0.12780         0        \n",
              "7   18.250      19.98        119.60         1040.0    0.09463         0        \n",
              "8   13.710      20.83         90.20          577.9    0.11890         0        \n",
              "9   13.000      21.82         87.50          519.8    0.12730         0        \n",
              "10  12.460      24.04         83.97          475.9    0.11860         0        \n",
              "11  16.020      23.24        102.70          797.8    0.08206         0        \n",
              "12  15.780      17.89        103.60          781.0    0.09710         0        \n",
              "13  19.170      24.80        132.40         1123.0    0.09740         0        \n",
              "14  15.850      23.95        103.70          782.7    0.08401         0        \n",
              "15  13.730      22.61         93.60          578.3    0.11310         0        \n",
              "16  14.540      27.54         96.73          658.8    0.11390         0        \n",
              "17  14.680      20.13         94.74          684.5    0.09867         0        \n",
              "18  16.130      20.68        108.10          798.8    0.11700         0        \n",
              "19  19.810      22.15        130.00         1260.0    0.09831         0        \n",
              "20  13.540      14.36         87.46          566.3    0.09779         1        \n",
              "21  13.080      15.71         85.63          520.0    0.10750         1        \n",
              "22   9.504      12.44         60.34          273.9    0.10240         1        \n",
              "23  15.340      14.26        102.50          704.4    0.10730         0        \n",
              "24  21.160      23.04        137.20         1404.0    0.09428         0        \n",
              "25  16.650      21.38        110.00          904.6    0.11210         0        \n",
              "26  17.140      16.40        116.00          912.7    0.11860         0        \n",
              "27  14.580      21.53         97.41          644.8    0.10540         0        \n",
              "28  18.610      20.25        122.10         1094.0    0.09440         0        \n",
              "29  15.300      25.27        102.40          732.4    0.10820         0        \n",
              "30  17.570      15.05        115.00          955.1    0.09847         0        \n",
              "⋮   ⋮           ⋮            ⋮              ⋮         ⋮               ⋮        \n",
              "540  7.691      25.44         48.34          170.4    0.08668         1        \n",
              "541 11.540      14.44         74.65          402.9    0.09984         1        \n",
              "542 14.470      24.99         95.81          656.4    0.08837         1        \n",
              "543 14.740      25.42         94.70          668.6    0.08275         1        \n",
              "544 13.210      28.06         84.88          538.4    0.08671         1        \n",
              "545 13.870      20.70         89.77          584.8    0.09578         1        \n",
              "546 13.620      23.23         87.19          573.2    0.09246         1        \n",
              "547 10.320      16.35         65.31          324.9    0.09434         1        \n",
              "548 10.260      16.58         65.85          320.8    0.08877         1        \n",
              "549  9.683      19.34         61.05          285.7    0.08491         1        \n",
              "550 10.820      24.21         68.89          361.6    0.08192         1        \n",
              "551 10.860      21.48         68.51          360.5    0.07431         1        \n",
              "552 11.130      22.44         71.49          378.4    0.09566         1        \n",
              "553 12.770      29.43         81.35          507.9    0.08276         1        \n",
              "554  9.333      21.94         59.01          264.0    0.09240         1        \n",
              "555 12.880      28.92         82.50          514.3    0.08123         1        \n",
              "556 10.290      27.61         65.67          321.4    0.09030         1        \n",
              "557 10.160      19.59         64.73          311.7    0.10030         1        \n",
              "558  9.423      27.88         59.26          271.3    0.08123         1        \n",
              "559 14.590      22.68         96.39          657.1    0.08473         1        \n",
              "560 11.510      23.93         74.52          403.5    0.09261         1        \n",
              "561 14.050      27.15         91.38          600.4    0.09929         1        \n",
              "562 11.200      29.37         70.67          386.0    0.07449         1        \n",
              "563 15.220      30.62        103.40          716.9    0.10480         0        \n",
              "564 20.920      25.09        143.00         1347.0    0.10990         0        \n",
              "565 21.560      22.39        142.00         1479.0    0.11100         0        \n",
              "566 20.130      28.25        131.20         1261.0    0.09780         0        \n",
              "567 16.600      28.08        108.30          858.1    0.08455         0        \n",
              "568 20.600      29.33        140.10         1265.0    0.11780         0        \n",
              "569  7.760      24.54         47.92          181.0    0.05263         1        "
            ]
          },
          "metadata": {}
        }
      ],
      "source": [
        "options(scipen=999)\n",
        "library(\"readxl\")\n",
        "data<-read_xlsx(\"dane.xlsx\", sheet = 1)\n",
        "data"
      ]
    },
    {
      "cell_type": "markdown",
      "source": [
        "# **3. Analiza eksploracyjna.**\n"
      ],
      "metadata": {
        "id": "Q479iRjVymXV"
      }
    },
    {
      "cell_type": "markdown",
      "source": [
        "###  3.1. Szeregi rozdzielcze i histogramy.\n",
        "\n",
        "W tej sekcji zostaną wyznaczone szeregi rozdzielcze i histogramy dla 4 kolumn z danymi: mean_radius, mean_texture, mean_perimeter oraz mean_area. Opisy poszczególnych kroków zostaną wykonane dla kolumny mean_radius."
      ],
      "metadata": {
        "id": "YZcSYA90TPSZ"
      }
    },
    {
      "cell_type": "markdown",
      "source": [
        "Zaczniemy od wyznaczenia rozpiętości danych. W tym celu liczymy rozstęp:"
      ],
      "metadata": {
        "id": "Dqr0tMwic4F0"
      }
    },
    {
      "cell_type": "code",
      "source": [
        "R <- max(data$mean_radius) - min(data$mean_radius)\n",
        "sprintf(\"Rozstęp dla kolumny mean_radius:   %f \", R)"
      ],
      "metadata": {
        "id": "piwefVBebqzv",
        "colab": {
          "base_uri": "https://localhost:8080/",
          "height": 34
        },
        "outputId": "4c73791b-f5fa-4d9c-8c95-b4c4c0fe9c2f"
      },
      "execution_count": 2,
      "outputs": [
        {
          "output_type": "display_data",
          "data": {
            "text/html": [
              "<span style=white-space:pre-wrap>'Rozstęp dla kolumny mean_radius:   21.129000 '</span>"
            ],
            "text/markdown": "<span style=white-space:pre-wrap>'Rozstęp dla kolumny mean_radius:   21.129000 '</span>",
            "text/latex": "'Rozstęp dla kolumny mean\\_radius:   21.129000 '",
            "text/plain": [
              "[1] \"Rozstęp dla kolumny mean_radius:   21.129000 \""
            ]
          },
          "metadata": {}
        }
      ]
    },
    {
      "cell_type": "markdown",
      "source": [
        "Następnie ustalamy liczbę przedziałów k. Z racji tego, że jest wiele sposobów na zrobienie tego, k wyliczymy kilkoma z nich i wybierzemy najlepszą wartość."
      ],
      "metadata": {
        "id": "yznTe-gBaQhp"
      }
    },
    {
      "cell_type": "code",
      "source": [
        "n<-length(data$mean_radius)\n",
        "k1 <- sqrt(n)\n",
        "k2 <- 1+3.322*log(n)\n",
        "k3 <- 5*log(n)\n",
        "k4 <- R/(2.64*n^(-1/3)*IQR(data$mean_radius))\n",
        "l_klas <- matrix(c(k1,k2,k3,k4),dimnames = list(c(\"sqrt(n)\", \"1+3.322log(n)\",\"5log(n)\", \"(max-min)/h\"),c(\"wynik\")))\n",
        "l_klas"
      ],
      "metadata": {
        "id": "ke6pXhM-tyTF",
        "colab": {
          "base_uri": "https://localhost:8080/",
          "height": 192
        },
        "outputId": "728a2903-3887-4342-bc12-cdbb27c8e5c3"
      },
      "execution_count": 3,
      "outputs": [
        {
          "output_type": "display_data",
          "data": {
            "text/html": [
              "<table class=\"dataframe\">\n",
              "<caption>A matrix: 4 × 1 of type dbl</caption>\n",
              "<thead>\n",
              "\t<tr><th></th><th scope=col>wynik</th></tr>\n",
              "</thead>\n",
              "<tbody>\n",
              "\t<tr><th scope=row>sqrt(n)</th><td>23.85372</td></tr>\n",
              "\t<tr><th scope=row>1+3.322log(n)</th><td>22.07437</td></tr>\n",
              "\t<tr><th scope=row>5log(n)</th><td>31.71940</td></tr>\n",
              "\t<tr><th scope=row>(max-min)/h</th><td>16.25495</td></tr>\n",
              "</tbody>\n",
              "</table>\n"
            ],
            "text/markdown": "\nA matrix: 4 × 1 of type dbl\n\n| <!--/--> | wynik |\n|---|---|\n| sqrt(n) | 23.85372 |\n| 1+3.322log(n) | 22.07437 |\n| 5log(n) | 31.71940 |\n| (max-min)/h | 16.25495 |\n\n",
            "text/latex": "A matrix: 4 × 1 of type dbl\n\\begin{tabular}{r|l}\n  & wynik\\\\\n\\hline\n\tsqrt(n) & 23.85372\\\\\n\t1+3.322log(n) & 22.07437\\\\\n\t5log(n) & 31.71940\\\\\n\t(max-min)/h & 16.25495\\\\\n\\end{tabular}\n",
            "text/plain": [
              "              wynik   \n",
              "sqrt(n)       23.85372\n",
              "1+3.322log(n) 22.07437\n",
              "5log(n)       31.71940\n",
              "(max-min)/h   16.25495"
            ]
          },
          "metadata": {}
        }
      ]
    },
    {
      "cell_type": "markdown",
      "source": [
        "Pierwsze dwa sposoby dały zbliżone do siebie wartości. Trzecia i czwarta metoda dały wartości skrajne i mimo że nie odbiegają one bardzo od reszty, odrzucamy je. Za k przyjmujemy wartość obliczoną pierwszym sposobem, odpowiednio zaokrągloną.\n",
        "Mając wyznaczoną liczbę przedziałów k, wyznaczamy rozpiętość przedziałów h i zaokrąglamy tę wartość w górę."
      ],
      "metadata": {
        "id": "Eikyya82fpth"
      }
    },
    {
      "cell_type": "code",
      "source": [
        "k <- round(k1)\n",
        "h <- ceiling(R/k)\n",
        "sprintf(\"Wyznaczona rozpiętość przedziałów:  %d\", h)"
      ],
      "metadata": {
        "id": "Rmbq366AuZWt",
        "colab": {
          "base_uri": "https://localhost:8080/",
          "height": 34
        },
        "outputId": "9fcaf3d6-075b-42b9-887d-c28e65a326a2"
      },
      "execution_count": 4,
      "outputs": [
        {
          "output_type": "display_data",
          "data": {
            "text/html": [
              "<span style=white-space:pre-wrap>'Wyznaczona rozpiętość przedziałów:  1'</span>"
            ],
            "text/markdown": "<span style=white-space:pre-wrap>'Wyznaczona rozpiętość przedziałów:  1'</span>",
            "text/latex": "'Wyznaczona rozpiętość przedziałów:  1'",
            "text/plain": [
              "[1] \"Wyznaczona rozpiętość przedziałów:  1\""
            ]
          },
          "metadata": {}
        }
      ]
    },
    {
      "cell_type": "markdown",
      "source": [
        "Teraz możemy skonstruować szereg rozdzielczy. Najpierw wyznaczamy początek pierwszego przedziału. Będzie to wartość mniejsza od najmniejszej wartości badanej kolumny."
      ],
      "metadata": {
        "id": "CP7llLI3nMJ6"
      }
    },
    {
      "cell_type": "code",
      "source": [
        "bgn <- floor(min(data$mean_radius))\n",
        "\n",
        "szereg_rozdz <- data.frame(nr.klasy = seq(1, k))\n",
        "szereg_rozdz$początek.klasy <- bgn + (szereg_rozdz$nr.klasy - 1)*h\n",
        "szereg_rozdz$koniec.klasy <- bgn + (szereg_rozdz$nr.klasy - 1)*h + h\n",
        "szereg_rozdz$liczebnosc.klasy <- NA\n",
        " \n",
        "for (i in 1:k) {\n",
        "  szereg_rozdz$liczebnosc.klasy[i] <- \n",
        "    sum(data$mean_radius>szereg_rozdz$początek.klasy[i] & data$mean_radius<=szereg_rozdz$koniec.klasy[i])\n",
        "}\n",
        "\n",
        "szereg_rozdz\n",
        "histogram <- hist(data$mean_radius, main=\"Promienie guzów\", xlab=\"przedziały rozmiarów guzów\", breaks=k)\n",
        "axis(1,at=seq(6,30,by=1))\n",
        "axis(2,at=seq(0,max(szereg_rozdz$liczebnosc.klasy),by=5))"
      ],
      "metadata": {
        "id": "K8R29JdupdRd",
        "colab": {
          "base_uri": "https://localhost:8080/",
          "height": 1000
        },
        "outputId": "bef47d1e-22ec-4ed1-fb93-07396c21205e"
      },
      "execution_count": 5,
      "outputs": [
        {
          "output_type": "display_data",
          "data": {
            "text/html": [
              "<table class=\"dataframe\">\n",
              "<caption>A data.frame: 24 × 4</caption>\n",
              "<thead>\n",
              "\t<tr><th scope=col>nr.klasy</th><th scope=col>początek.klasy</th><th scope=col>koniec.klasy</th><th scope=col>liczebnosc.klasy</th></tr>\n",
              "\t<tr><th scope=col>&lt;int&gt;</th><th scope=col>&lt;dbl&gt;</th><th scope=col>&lt;dbl&gt;</th><th scope=col>&lt;int&gt;</th></tr>\n",
              "</thead>\n",
              "<tbody>\n",
              "\t<tr><td> 1</td><td> 6</td><td> 7</td><td> 1</td></tr>\n",
              "\t<tr><td> 2</td><td> 7</td><td> 8</td><td> 3</td></tr>\n",
              "\t<tr><td> 3</td><td> 8</td><td> 9</td><td>13</td></tr>\n",
              "\t<tr><td> 4</td><td> 9</td><td>10</td><td>30</td></tr>\n",
              "\t<tr><td> 5</td><td>10</td><td>11</td><td>38</td></tr>\n",
              "\t<tr><td> 6</td><td>11</td><td>12</td><td>86</td></tr>\n",
              "\t<tr><td> 7</td><td>12</td><td>13</td><td>88</td></tr>\n",
              "\t<tr><td> 8</td><td>13</td><td>14</td><td>78</td></tr>\n",
              "\t<tr><td> 9</td><td>14</td><td>15</td><td>59</td></tr>\n",
              "\t<tr><td>10</td><td>15</td><td>16</td><td>32</td></tr>\n",
              "\t<tr><td>11</td><td>16</td><td>17</td><td>23</td></tr>\n",
              "\t<tr><td>12</td><td>17</td><td>18</td><td>26</td></tr>\n",
              "\t<tr><td>13</td><td>18</td><td>19</td><td>21</td></tr>\n",
              "\t<tr><td>14</td><td>19</td><td>20</td><td>26</td></tr>\n",
              "\t<tr><td>15</td><td>20</td><td>21</td><td>23</td></tr>\n",
              "\t<tr><td>16</td><td>21</td><td>22</td><td> 8</td></tr>\n",
              "\t<tr><td>17</td><td>22</td><td>23</td><td> 2</td></tr>\n",
              "\t<tr><td>18</td><td>23</td><td>24</td><td> 5</td></tr>\n",
              "\t<tr><td>19</td><td>24</td><td>25</td><td> 2</td></tr>\n",
              "\t<tr><td>20</td><td>25</td><td>26</td><td> 2</td></tr>\n",
              "\t<tr><td>21</td><td>26</td><td>27</td><td> 0</td></tr>\n",
              "\t<tr><td>22</td><td>27</td><td>28</td><td> 2</td></tr>\n",
              "\t<tr><td>23</td><td>28</td><td>29</td><td> 1</td></tr>\n",
              "\t<tr><td>24</td><td>29</td><td>30</td><td> 0</td></tr>\n",
              "</tbody>\n",
              "</table>\n"
            ],
            "text/markdown": "\nA data.frame: 24 × 4\n\n| nr.klasy &lt;int&gt; | początek.klasy &lt;dbl&gt; | koniec.klasy &lt;dbl&gt; | liczebnosc.klasy &lt;int&gt; |\n|---|---|---|---|\n|  1 |  6 |  7 |  1 |\n|  2 |  7 |  8 |  3 |\n|  3 |  8 |  9 | 13 |\n|  4 |  9 | 10 | 30 |\n|  5 | 10 | 11 | 38 |\n|  6 | 11 | 12 | 86 |\n|  7 | 12 | 13 | 88 |\n|  8 | 13 | 14 | 78 |\n|  9 | 14 | 15 | 59 |\n| 10 | 15 | 16 | 32 |\n| 11 | 16 | 17 | 23 |\n| 12 | 17 | 18 | 26 |\n| 13 | 18 | 19 | 21 |\n| 14 | 19 | 20 | 26 |\n| 15 | 20 | 21 | 23 |\n| 16 | 21 | 22 |  8 |\n| 17 | 22 | 23 |  2 |\n| 18 | 23 | 24 |  5 |\n| 19 | 24 | 25 |  2 |\n| 20 | 25 | 26 |  2 |\n| 21 | 26 | 27 |  0 |\n| 22 | 27 | 28 |  2 |\n| 23 | 28 | 29 |  1 |\n| 24 | 29 | 30 |  0 |\n\n",
            "text/latex": "A data.frame: 24 × 4\n\\begin{tabular}{llll}\n nr.klasy & początek.klasy & koniec.klasy & liczebnosc.klasy\\\\\n <int> & <dbl> & <dbl> & <int>\\\\\n\\hline\n\t  1 &  6 &  7 &  1\\\\\n\t  2 &  7 &  8 &  3\\\\\n\t  3 &  8 &  9 & 13\\\\\n\t  4 &  9 & 10 & 30\\\\\n\t  5 & 10 & 11 & 38\\\\\n\t  6 & 11 & 12 & 86\\\\\n\t  7 & 12 & 13 & 88\\\\\n\t  8 & 13 & 14 & 78\\\\\n\t  9 & 14 & 15 & 59\\\\\n\t 10 & 15 & 16 & 32\\\\\n\t 11 & 16 & 17 & 23\\\\\n\t 12 & 17 & 18 & 26\\\\\n\t 13 & 18 & 19 & 21\\\\\n\t 14 & 19 & 20 & 26\\\\\n\t 15 & 20 & 21 & 23\\\\\n\t 16 & 21 & 22 &  8\\\\\n\t 17 & 22 & 23 &  2\\\\\n\t 18 & 23 & 24 &  5\\\\\n\t 19 & 24 & 25 &  2\\\\\n\t 20 & 25 & 26 &  2\\\\\n\t 21 & 26 & 27 &  0\\\\\n\t 22 & 27 & 28 &  2\\\\\n\t 23 & 28 & 29 &  1\\\\\n\t 24 & 29 & 30 &  0\\\\\n\\end{tabular}\n",
            "text/plain": [
              "   nr.klasy początek.klasy koniec.klasy liczebnosc.klasy\n",
              "1   1        6              7            1              \n",
              "2   2        7              8            3              \n",
              "3   3        8              9           13              \n",
              "4   4        9             10           30              \n",
              "5   5       10             11           38              \n",
              "6   6       11             12           86              \n",
              "7   7       12             13           88              \n",
              "8   8       13             14           78              \n",
              "9   9       14             15           59              \n",
              "10 10       15             16           32              \n",
              "11 11       16             17           23              \n",
              "12 12       17             18           26              \n",
              "13 13       18             19           21              \n",
              "14 14       19             20           26              \n",
              "15 15       20             21           23              \n",
              "16 16       21             22            8              \n",
              "17 17       22             23            2              \n",
              "18 18       23             24            5              \n",
              "19 19       24             25            2              \n",
              "20 20       25             26            2              \n",
              "21 21       26             27            0              \n",
              "22 22       27             28            2              \n",
              "23 23       28             29            1              \n",
              "24 24       29             30            0              "
            ]
          },
          "metadata": {}
        },
        {
          "output_type": "display_data",
          "data": {
            "text/plain": [
              "Plot with title “Promienie guzów”"
            ],
            "image/png": "[encoded data removed]"
          },
          "metadata": {
            "image/png": {
              "width": 420,
              "height": 420
            }
          }
        }
      ]
    },
    {
      "cell_type": "markdown",
      "source": [
        "Powyższy histogram unimodalny - jest jeden pik, otoczony niższymi słupkami. Nie jest on symetryczny, cechuje go antysymetryczność prawostronna."
      ],
      "metadata": {
        "id": "RVpzqBJhmsDv"
      }
    },
    {
      "cell_type": "markdown",
      "source": [
        "### 3.2. Wartości statystyk opisowych - miary tendencji centralnej.\n",
        "W tej sekcji zostaną wyznaczone miary tendencji centralnej, tj. wartości średniej, mediany i dominanty.\n",
        "Najpierw dane podzielone zostaną według diagnozy. Następnie dla każdej kolumny zostaną wyznaczone wartości centralne.\n"
      ],
      "metadata": {
        "id": "XLB8yXzr2uwK"
      }
    },
    {
      "cell_type": "code",
      "source": [
        "promienie = list(zlosliwy=c(), lagodny=c())\n",
        "powierzchnia = list(zlosliwy=c(), lagodny=c())\n",
        "obwod = list(zlosliwy=c(), lagodny=c())\n",
        "\n",
        "\n",
        "for (i in 1:length(data$diagnosis)) {\n",
        "    if(data$diagnosis[i] == 1){\n",
        "        promienie$lagodny <- c(promienie$lagodny, data$mean_radius[i])\n",
        "        powierzchnia$lagodny <- c(powierzchnia$lagodny, data$mean_area[i])\n",
        "        obwod$lagodny <- c(obwod$lagodny, data$mean_perimeter[i])\n",
        "    } else {\n",
        "        promienie$zlosliwy <- c(promienie$zlosliwy, data$mean_radius[i])\n",
        "        powierzchnia$zlosliwy <- c(powierzchnia$zlosliwy, data$mean_area[i])\n",
        "        obwod$zlosliwy <- c(obwod$zlosliwy, data$mean_perimeter[i])\n",
        "    }\n",
        "}\n",
        "\n",
        "parametry = list(promienie, powierzchnia, obwod)"
      ],
      "metadata": {
        "id": "hMYfgoe_Mss8"
      },
      "execution_count": 6,
      "outputs": []
    },
    {
      "cell_type": "markdown",
      "source": [
        "Poniższy kod oblicza poszczególne wartości miar centralnych dla trzech parametrów guzów. Wyniki zapisywane są do wektorów, a te dodawane są do ramek danych. Każdy parametr ma własną ramkę na dane. Wartości mediany i średniej zostały zaokrąglone, by zapewnić czytelność."
      ],
      "metadata": {
        "id": "VtT5X5a3SQDN"
      }
    },
    {
      "cell_type": "code",
      "source": [
        "mode <- function(x) {\n",
        "  ux <- unique(x)\n",
        "  ux[which.max(tabulate(match(x, ux)))]\n",
        "}\n",
        "\n",
        "\n",
        "df<- data.frame(\"Mediana\" = c(median(promienie$zlosliwy), median(promienie$lagodny)), \n",
        "                \"Średnia\" =  c(mean(promienie$zlosliwy), mean(promienie$lagodny)),\n",
        "                \"Dominanta\" = c(mode(promienie$zlosliwy), mode(promienie$lagodny)))\n",
        "rownames(df)<-c(\"Złośliwy\", \"Łagodny\")\n",
        "\n",
        "df2<- data.frame(\"Mediana\" = c(median(powierzchnia$zlosliwy), median(powierzchnia$lagodny)), \n",
        "                \"Średnia\" =  c(mean(powierzchnia$zlosliwy), mean(powierzchnia$lagodny)),\n",
        "                \"Dominanta\" = c(mode(powierzchnia$zlosliwy), mode(powierzchnia$lagodny)))\n",
        "rownames(df2)<-c(\"Złośliwy\", \"Łagodny\")\n",
        "\n",
        "df3<- data.frame(\"Mediana\" = c(median(obwod$zlosliwy), median(obwod$lagodny)), \n",
        "                \"Średnia\" =  c(mean(obwod$zlosliwy), mean(obwod$lagodny)),\n",
        "                \"Dominanta\" = c(mode(obwod$zlosliwy), mode(obwod$lagodny)))\n",
        "rownames(df3)<-c(\"Złośliwy\", \"Łagodny\")\n",
        "\n",
        "df$Mediana<-round(df$Mediana, 2)\n",
        "df$Średnia<-round(df$Średnia,2)\n",
        "df2$Mediana<-round(df2$Mediana, 2)\n",
        "df2$Średnia<-round(df2$Średnia,2)\n",
        "df3$Mediana<-round(df3$Mediana, 2)\n",
        "df3$Średnia<-round(df3$Średnia,2)\n",
        "sprintf(\"                           PROMIEŃ: \")\n",
        "df\n",
        "sprintf(\"                           POWIERZCHNIA \")\n",
        "df2\n",
        "sprintf(\"                            OBWÓD \")\n",
        "df3"
      ],
      "metadata": {
        "colab": {
          "base_uri": "https://localhost:8080/",
          "height": 0
        },
        "id": "96BQIKVmSH-Y",
        "outputId": "e4d832f7-8af4-4f22-d602-2284d3f29c0c"
      },
      "execution_count": 7,
      "outputs": [
        {
          "output_type": "display_data",
          "data": {
            "text/html": [
              "<span style=white-space:pre-wrap>'                           PROMIEŃ: '</span>"
            ],
            "text/markdown": "<span style=white-space:pre-wrap>'                           PROMIEŃ: '</span>",
            "text/latex": "'                           PROMIEŃ: '",
            "text/plain": [
              "[1] \"                           PROMIEŃ: \""
            ]
          },
          "metadata": {}
        },
        {
          "output_type": "display_data",
          "data": {
            "text/html": [
              "<table class=\"dataframe\">\n",
              "<caption>A data.frame: 2 × 3</caption>\n",
              "<thead>\n",
              "\t<tr><th></th><th scope=col>Mediana</th><th scope=col>Średnia</th><th scope=col>Dominanta</th></tr>\n",
              "\t<tr><th></th><th scope=col>&lt;dbl&gt;</th><th scope=col>&lt;dbl&gt;</th><th scope=col>&lt;dbl&gt;</th></tr>\n",
              "</thead>\n",
              "<tbody>\n",
              "\t<tr><th scope=row>Złośliwy</th><td>17.33</td><td>17.46</td><td>15.46</td></tr>\n",
              "\t<tr><th scope=row>Łagodny</th><td>12.20</td><td>12.15</td><td>13.05</td></tr>\n",
              "</tbody>\n",
              "</table>\n"
            ],
            "text/markdown": "\nA data.frame: 2 × 3\n\n| <!--/--> | Mediana &lt;dbl&gt; | Średnia &lt;dbl&gt; | Dominanta &lt;dbl&gt; |\n|---|---|---|---|\n| Złośliwy | 17.33 | 17.46 | 15.46 |\n| Łagodny | 12.20 | 12.15 | 13.05 |\n\n",
            "text/latex": "A data.frame: 2 × 3\n\\begin{tabular}{r|lll}\n  & Mediana & Średnia & Dominanta\\\\\n  & <dbl> & <dbl> & <dbl>\\\\\n\\hline\n\tZłośliwy & 17.33 & 17.46 & 15.46\\\\\n\tŁagodny & 12.20 & 12.15 & 13.05\\\\\n\\end{tabular}\n",
            "text/plain": [
              "         Mediana Średnia Dominanta\n",
              "Złośliwy 17.33   17.46   15.46    \n",
              "Łagodny  12.20   12.15   13.05    "
            ]
          },
          "metadata": {}
        },
        {
          "output_type": "display_data",
          "data": {
            "text/html": [
              "<span style=white-space:pre-wrap>'                           POWIERZCHNIA '</span>"
            ],
            "text/markdown": "<span style=white-space:pre-wrap>'                           POWIERZCHNIA '</span>",
            "text/latex": "'                           POWIERZCHNIA '",
            "text/plain": [
              "[1] \"                           POWIERZCHNIA \""
            ]
          },
          "metadata": {}
        },
        {
          "output_type": "display_data",
          "data": {
            "text/html": [
              "<table class=\"dataframe\">\n",
              "<caption>A data.frame: 2 × 3</caption>\n",
              "<thead>\n",
              "\t<tr><th></th><th scope=col>Mediana</th><th scope=col>Średnia</th><th scope=col>Dominanta</th></tr>\n",
              "\t<tr><th></th><th scope=col>&lt;dbl&gt;</th><th scope=col>&lt;dbl&gt;</th><th scope=col>&lt;dbl&gt;</th></tr>\n",
              "</thead>\n",
              "<tbody>\n",
              "\t<tr><th scope=row>Złośliwy</th><td>932.0</td><td>978.38</td><td>1076.0</td></tr>\n",
              "\t<tr><th scope=row>Łagodny</th><td>458.4</td><td>462.79</td><td> 512.2</td></tr>\n",
              "</tbody>\n",
              "</table>\n"
            ],
            "text/markdown": "\nA data.frame: 2 × 3\n\n| <!--/--> | Mediana &lt;dbl&gt; | Średnia &lt;dbl&gt; | Dominanta &lt;dbl&gt; |\n|---|---|---|---|\n| Złośliwy | 932.0 | 978.38 | 1076.0 |\n| Łagodny | 458.4 | 462.79 |  512.2 |\n\n",
            "text/latex": "A data.frame: 2 × 3\n\\begin{tabular}{r|lll}\n  & Mediana & Średnia & Dominanta\\\\\n  & <dbl> & <dbl> & <dbl>\\\\\n\\hline\n\tZłośliwy & 932.0 & 978.38 & 1076.0\\\\\n\tŁagodny & 458.4 & 462.79 &  512.2\\\\\n\\end{tabular}\n",
            "text/plain": [
              "         Mediana Średnia Dominanta\n",
              "Złośliwy 932.0   978.38  1076.0   \n",
              "Łagodny  458.4   462.79   512.2   "
            ]
          },
          "metadata": {}
        },
        {
          "output_type": "display_data",
          "data": {
            "text/html": [
              "<span style=white-space:pre-wrap>'                            OBWÓD '</span>"
            ],
            "text/markdown": "<span style=white-space:pre-wrap>'                            OBWÓD '</span>",
            "text/latex": "'                            OBWÓD '",
            "text/plain": [
              "[1] \"                            OBWÓD \""
            ]
          },
          "metadata": {}
        },
        {
          "output_type": "display_data",
          "data": {
            "text/html": [
              "<table class=\"dataframe\">\n",
              "<caption>A data.frame: 2 × 3</caption>\n",
              "<thead>\n",
              "\t<tr><th></th><th scope=col>Mediana</th><th scope=col>Średnia</th><th scope=col>Dominanta</th></tr>\n",
              "\t<tr><th></th><th scope=col>&lt;dbl&gt;</th><th scope=col>&lt;dbl&gt;</th><th scope=col>&lt;dbl&gt;</th></tr>\n",
              "</thead>\n",
              "<tbody>\n",
              "\t<tr><th scope=row>Złośliwy</th><td>114.20</td><td>115.37</td><td>134.70</td></tr>\n",
              "\t<tr><th scope=row>Łagodny</th><td> 78.18</td><td> 78.08</td><td> 82.61</td></tr>\n",
              "</tbody>\n",
              "</table>\n"
            ],
            "text/markdown": "\nA data.frame: 2 × 3\n\n| <!--/--> | Mediana &lt;dbl&gt; | Średnia &lt;dbl&gt; | Dominanta &lt;dbl&gt; |\n|---|---|---|---|\n| Złośliwy | 114.20 | 115.37 | 134.70 |\n| Łagodny |  78.18 |  78.08 |  82.61 |\n\n",
            "text/latex": "A data.frame: 2 × 3\n\\begin{tabular}{r|lll}\n  & Mediana & Średnia & Dominanta\\\\\n  & <dbl> & <dbl> & <dbl>\\\\\n\\hline\n\tZłośliwy & 114.20 & 115.37 & 134.70\\\\\n\tŁagodny &  78.18 &  78.08 &  82.61\\\\\n\\end{tabular}\n",
            "text/plain": [
              "         Mediana Średnia Dominanta\n",
              "Złośliwy 114.20  115.37  134.70   \n",
              "Łagodny   78.18   78.08   82.61   "
            ]
          },
          "metadata": {}
        }
      ]
    },
    {
      "cell_type": "markdown",
      "source": [
        "Można zauważyć, że nieważne ktorą miarę centralną \n",
        "wybierzemy, parametry guzów złośliwych są zawsze \n",
        "większe od parametrów guzów łagodnych.\n",
        " \n",
        "W przypadku promienia wyznaczone wielkości dla komórek guzów złośliwych spełniają nierówność dominanta < mediana < średnia. Na podstawie tego wiemy więc, że rozkład jest skośny prawostronnie. Dla promienia komórek guzów łagodnych mamy zależność \n",
        "średnia < mediana < dominanta zatem rozkład jest skośny lewostronnie.\n",
        "Na podstawie średniej można stwierdzić, że komórki guzów złośliwych mają promień średnio o ok. 43% większy od komórek guzów łagodnych.\n",
        "\n",
        "Jeśli chodzi o powierzchnię komórki guzów złośliwych zajmują jej średnio ponad dwa razy więcej, a ich obwody średnio są większe o 47% w porównaniu do komórek guzów łagodnych. \n",
        "\n",
        "\n",
        "\n",
        "\n"
      ],
      "metadata": {
        "id": "6GVLa0xvagTJ"
      }
    },
    {
      "cell_type": "markdown",
      "source": [
        "###3.3. Wartości statystyk opisowych - miary rozproszenia.\n",
        "W tej sekcji wyznaczone zostaną poziomy rozproszenia wartości, tj. rozstęp, wariancja, odchylenie standardowe, skośność i kurtoza.\n"
      ],
      "metadata": {
        "id": "0HoX4LfhGTrB"
      }
    },
    {
      "cell_type": "code",
      "source": [
        "skośność <- function(x){\n",
        "    mean((x-mean(x))^3)/ (sqrt(mean((x-mean(x))^2)))^3\n",
        "}\n",
        "\n",
        "kurtoza <- function(x){\n",
        "    mean((x-mean(x))^4)/ (sqrt(mean((x-mean(x))^2)))^4\n",
        "}\n",
        "\n",
        "\n",
        "mr1 <- data.frame(\"Wariancja\" = c(var(promienie$zlosliwy),var(promienie$lagodny)), \n",
        "              \"OdchylenieStd\" = c(sd(promienie$zlosliwy), sd(promienie$lagodny)),\n",
        "              \"Skośność\" = c(skośność(promienie$zlosliwy), skośność(promienie$lagodny)),\n",
        "              \"Kurtoza\" = c(kurtoza(promienie$zlosliwy), kurtoza(promienie$lagodny))\n",
        ")\n",
        "\n",
        "\n",
        "mr2 <- data.frame(\"Wariancja\" = c(var(powierzchnia$zlosliwy),var(powierzchnia$lagodny)), \n",
        "              \"OdchylenieStd\" = c(sd(powierzchnia$zlosliwy), sd(powierzchnia$lagodny)),\n",
        "              \"Skośność\" = c(skośność(powierzchnia$zlosliwy), skośność(powierzchnia$lagodny)),\n",
        "              \"Kurtoza\" = c(kurtoza(powierzchnia$zlosliwy), kurtoza(powierzchnia$lagodny))\n",
        ")\n",
        "\n",
        "\n",
        "mr3<- data.frame(\"Wariancja\" = c(var(obwod$zlosliwy),var(obwod$lagodny)), \n",
        "              \"OdchylenieStd\" = c(sd(obwod$zlosliwy), sd(obwod$lagodny)),\n",
        "              \"Skośność\" = c(skośność(obwod$zlosliwy), skośność(obwod$lagodny)),\n",
        "              \"Kurtoza\" = c(kurtoza(obwod$zlosliwy), kurtoza(obwod$lagodny))\n",
        ")\n",
        "\n",
        "\n",
        "\n",
        "rownames(mr1) <-c(\"Złośliwy\", \"Łagodny\")\n",
        "rownames(mr2) <-c(\"Złośliwy\", \"Łagodny\")\n",
        "rownames(mr3) <-c(\"Złośliwy\", \"Łagodny\")\n",
        "mr1$Wariancja <- round(mr1$Wariancja,2)\n",
        "mr1$OdchylenieStd <- round(mr1$OdchylenieStd,2)\n",
        "mr1$Skośność <- round(mr1$Skośność,2)\n",
        "mr1$Kurtoza <- round(mr1$Kurtoza,2)\n",
        "\n",
        "mr2$Wariancja <- round(mr2$Wariancja,2)\n",
        "mr2$OdchylenieStd <- round(mr2$OdchylenieStd,2)\n",
        "mr2$Skośność <- round(mr2$Skośność,2)\n",
        "mr2$Kurtoza <- round(mr2$Kurtoza,2)\n",
        "\n",
        "mr3$Wariancja <- round(mr3$Wariancja,2)\n",
        "mr3$OdchylenieStd <- round(mr3$OdchylenieStd,2)\n",
        "mr3$Skośność <- round(mr3$Skośność,2)\n",
        "mr3$Kurtoza <- round(mr3$Kurtoza,2)\n",
        "\n",
        "sprintf(\"                                     PROMIEŃ: \")\n",
        "mr1\n",
        "sprintf(\"                                 POWIERZCHNIA: \")\n",
        "mr2\n",
        "sprintf(\"                                       OBWÓD: \")\n",
        "mr3"
      ],
      "metadata": {
        "colab": {
          "base_uri": "https://localhost:8080/"
        },
        "id": "Wk2-jpHf3N3l",
        "outputId": "4c4c2da4-019c-4bdd-a784-05cd5d8d4e3f"
      },
      "execution_count": null,
      "outputs": [
        {
          "output_type": "display_data",
          "data": {
            "text/html": [
              "<span style=white-space:pre-wrap>'                                     PROMIEŃ: '</span>"
            ],
            "text/markdown": "<span style=white-space:pre-wrap>'                                     PROMIEŃ: '</span>",
            "text/latex": "'                                     PROMIEŃ: '",
            "text/plain": [
              "[1] \"                                     PROMIEŃ: \""
            ]
          },
          "metadata": {}
        },
        {
          "output_type": "display_data",
          "data": {
            "text/html": [
              "<table class=\"dataframe\">\n",
              "<caption>A data.frame: 2 × 4</caption>\n",
              "<thead>\n",
              "\t<tr><th></th><th scope=col>Wariancja</th><th scope=col>OdchylenieStd</th><th scope=col>Skośność</th><th scope=col>Kurtoza</th></tr>\n",
              "\t<tr><th></th><th scope=col>&lt;dbl&gt;</th><th scope=col>&lt;dbl&gt;</th><th scope=col>&lt;dbl&gt;</th><th scope=col>&lt;dbl&gt;</th></tr>\n",
              "</thead>\n",
              "<tbody>\n",
              "\t<tr><th scope=row>Złośliwy</th><td>10.27</td><td>3.20</td><td> 0.50</td><td>3.34</td></tr>\n",
              "\t<tr><th scope=row>Łagodny</th><td> 3.17</td><td>1.78</td><td>-0.08</td><td>2.97</td></tr>\n",
              "</tbody>\n",
              "</table>\n"
            ],
            "text/markdown": "\nA data.frame: 2 × 4\n\n| <!--/--> | Wariancja &lt;dbl&gt; | OdchylenieStd &lt;dbl&gt; | Skośność &lt;dbl&gt; | Kurtoza &lt;dbl&gt; |\n|---|---|---|---|---|\n| Złośliwy | 10.27 | 3.20 |  0.50 | 3.34 |\n| Łagodny |  3.17 | 1.78 | -0.08 | 2.97 |\n\n",
            "text/latex": "A data.frame: 2 × 4\n\\begin{tabular}{r|llll}\n  & Wariancja & OdchylenieStd & Skośność & Kurtoza\\\\\n  & <dbl> & <dbl> & <dbl> & <dbl>\\\\\n\\hline\n\tZłośliwy & 10.27 & 3.20 &  0.50 & 3.34\\\\\n\tŁagodny &  3.17 & 1.78 & -0.08 & 2.97\\\\\n\\end{tabular}\n",
            "text/plain": [
              "         Wariancja OdchylenieStd Skośność Kurtoza\n",
              "Złośliwy 10.27     3.20           0.50    3.34   \n",
              "Łagodny   3.17     1.78          -0.08    2.97   "
            ]
          },
          "metadata": {}
        },
        {
          "output_type": "display_data",
          "data": {
            "text/html": [
              "<span style=white-space:pre-wrap>'                                 POWIERZCHNIA: '</span>"
            ],
            "text/markdown": "<span style=white-space:pre-wrap>'                                 POWIERZCHNIA: '</span>",
            "text/latex": "'                                 POWIERZCHNIA: '",
            "text/plain": [
              "[1] \"                                 POWIERZCHNIA: \""
            ]
          },
          "metadata": {}
        },
        {
          "output_type": "display_data",
          "data": {
            "text/html": [
              "<table class=\"dataframe\">\n",
              "<caption>A data.frame: 2 × 4</caption>\n",
              "<thead>\n",
              "\t<tr><th></th><th scope=col>Wariancja</th><th scope=col>OdchylenieStd</th><th scope=col>Skośność</th><th scope=col>Kurtoza</th></tr>\n",
              "\t<tr><th></th><th scope=col>&lt;dbl&gt;</th><th scope=col>&lt;dbl&gt;</th><th scope=col>&lt;dbl&gt;</th><th scope=col>&lt;dbl&gt;</th></tr>\n",
              "</thead>\n",
              "<tbody>\n",
              "\t<tr><th scope=row>Złośliwy</th><td>135378.36</td><td>367.94</td><td>1.11</td><td>5.22</td></tr>\n",
              "\t<tr><th scope=row>Łagodny</th><td> 18033.03</td><td>134.29</td><td>0.34</td><td>3.29</td></tr>\n",
              "</tbody>\n",
              "</table>\n"
            ],
            "text/markdown": "\nA data.frame: 2 × 4\n\n| <!--/--> | Wariancja &lt;dbl&gt; | OdchylenieStd &lt;dbl&gt; | Skośność &lt;dbl&gt; | Kurtoza &lt;dbl&gt; |\n|---|---|---|---|---|\n| Złośliwy | 135378.36 | 367.94 | 1.11 | 5.22 |\n| Łagodny |  18033.03 | 134.29 | 0.34 | 3.29 |\n\n",
            "text/latex": "A data.frame: 2 × 4\n\\begin{tabular}{r|llll}\n  & Wariancja & OdchylenieStd & Skośność & Kurtoza\\\\\n  & <dbl> & <dbl> & <dbl> & <dbl>\\\\\n\\hline\n\tZłośliwy & 135378.36 & 367.94 & 1.11 & 5.22\\\\\n\tŁagodny &  18033.03 & 134.29 & 0.34 & 3.29\\\\\n\\end{tabular}\n",
            "text/plain": [
              "         Wariancja OdchylenieStd Skośność Kurtoza\n",
              "Złośliwy 135378.36 367.94        1.11     5.22   \n",
              "Łagodny   18033.03 134.29        0.34     3.29   "
            ]
          },
          "metadata": {}
        },
        {
          "output_type": "display_data",
          "data": {
            "text/html": [
              "<span style=white-space:pre-wrap>'                                       OBWÓD: '</span>"
            ],
            "text/markdown": "<span style=white-space:pre-wrap>'                                       OBWÓD: '</span>",
            "text/latex": "'                                       OBWÓD: '",
            "text/plain": [
              "[1] \"                                       OBWÓD: \""
            ]
          },
          "metadata": {}
        },
        {
          "output_type": "display_data",
          "data": {
            "text/html": [
              "<table class=\"dataframe\">\n",
              "<caption>A data.frame: 2 × 4</caption>\n",
              "<thead>\n",
              "\t<tr><th></th><th scope=col>Wariancja</th><th scope=col>OdchylenieStd</th><th scope=col>Skośność</th><th scope=col>Kurtoza</th></tr>\n",
              "\t<tr><th></th><th scope=col>&lt;dbl&gt;</th><th scope=col>&lt;dbl&gt;</th><th scope=col>&lt;dbl&gt;</th><th scope=col>&lt;dbl&gt;</th></tr>\n",
              "</thead>\n",
              "<tbody>\n",
              "\t<tr><th scope=row>Złośliwy</th><td>477.63</td><td>21.85</td><td> 0.60</td><td>3.55</td></tr>\n",
              "\t<tr><th scope=row>Łagodny</th><td>139.42</td><td>11.81</td><td>-0.06</td><td>2.97</td></tr>\n",
              "</tbody>\n",
              "</table>\n"
            ],
            "text/markdown": "\nA data.frame: 2 × 4\n\n| <!--/--> | Wariancja &lt;dbl&gt; | OdchylenieStd &lt;dbl&gt; | Skośność &lt;dbl&gt; | Kurtoza &lt;dbl&gt; |\n|---|---|---|---|---|\n| Złośliwy | 477.63 | 21.85 |  0.60 | 3.55 |\n| Łagodny | 139.42 | 11.81 | -0.06 | 2.97 |\n\n",
            "text/latex": "A data.frame: 2 × 4\n\\begin{tabular}{r|llll}\n  & Wariancja & OdchylenieStd & Skośność & Kurtoza\\\\\n  & <dbl> & <dbl> & <dbl> & <dbl>\\\\\n\\hline\n\tZłośliwy & 477.63 & 21.85 &  0.60 & 3.55\\\\\n\tŁagodny & 139.42 & 11.81 & -0.06 & 2.97\\\\\n\\end{tabular}\n",
            "text/plain": [
              "         Wariancja OdchylenieStd Skośność Kurtoza\n",
              "Złośliwy 477.63    21.85          0.60    3.55   \n",
              "Łagodny  139.42    11.81         -0.06    2.97   "
            ]
          },
          "metadata": {}
        }
      ]
    },
    {
      "cell_type": "markdown",
      "source": [
        "Rozrzut wokół średniej i różnorodność wyników nie jest wielka - wartości wariancji i odchyleń standardowych są raczej małe zarówno dla promieni złośliwych jak i promieni łagodnych guzów.\n",
        "Jak udało się zaobserwować na podstawie wartości średniej i dominanty, rozkład promieni komórek guzów złośliwych jest prawostronnie skośny, co potwierdza wartość skośności, tak samo dla komórek guzów łagodnych udało się potwierdzić skośność lewostronną. Nie są to jednak duże wartości, tzn. nie przekraczają 1 ani -1. Na podstawie tego wiemy więc, że skośności tych rozkładów nie są mocne i są bliskie rozkładowi normalnemu.\n",
        "Kurtoza dla obu rozkładów promieni ma małą wartość - co świadczy o małej ilości obserwacji odstających. Graficznie będzie przedstawiało się to tak, że rozkłady nie będą szczególnie smukłe, a dość spłaszczone.  \n"
      ],
      "metadata": {
        "id": "jU8jQeRBSmvK"
      }
    },
    {
      "cell_type": "code",
      "source": [
        "k <- round(sqrt(length(promienie$zlosliwy)))\n",
        "histogram <- hist(promienie$zlosliwy, main=\"promienie (guzy złośliwe)\", xlab=\"przedziały rozmiarów\", breaks=k)\n",
        "\n",
        "k <- round(sqrt(length(promienie$lagodny)))\n",
        "histogram <- hist(promienie$lagodny, main=\"promienie (guzy łagodne)\", xlab=\"przedziały rozmiarów\", breaks=k)\n"
      ],
      "metadata": {
        "colab": {
          "base_uri": "https://localhost:8080/"
        },
        "id": "RVL3RdNeXb56",
        "outputId": "f318376e-f49b-444d-caa7-0fffcab8e0a6"
      },
      "execution_count": null,
      "outputs": [
        {
          "output_type": "display_data",
          "data": {
            "text/plain": [
              "Plot with title “promienie (guzy złośliwe)”"
            ],
            "image/png": "[encoded data removed]"
          },
          "metadata": {
            "image/png": {
              "width": 420,
              "height": 420
            }
          }
        },
        {
          "output_type": "display_data",
          "data": {
            "text/plain": [
              "Plot with title “promienie (guzy łagodne)”"
            ],
            "image/png": "[encoded data removed]"
          },
          "metadata": {
            "image/png": {
              "width": 420,
              "height": 420
            }
          }
        }
      ]
    },
    {
      "cell_type": "markdown",
      "source": [
        "W przypadku powierzchni rozrzut danych wokół średniej i\n",
        "różnorodność wyników jest bardzo duża - wariancja i odchylenie przyjmuje \n",
        "duże wartości.\n",
        "Jeśli chodzi o skośność, zarówno dla komórek guzów złośliwych jak i łagodnych\n",
        "rozkłady są skośne prawostronnie. Siła tej skośności jest jednak \n",
        "różna - dla guzów złośliwych wartość skośności przekracza 1, co \n",
        "oznacza, że rozkład jest bardzo skośny, dla łagodnych zaś skośność\n",
        "przyjmuje małą wartość, rozkład więc będzie zatem bliższy rozkładowi \n",
        "normalnemu. \n",
        "Warto wspomnieć o tym, że dla powierzchni komórek guzów złośliwych obliczone \n",
        "wartości miar rozproszenia przyjmują największe wartości. Wariancja \n",
        "jest największa, tak samo jak odchylenie, skośność i kurtoza.\n",
        "Oznacza to, że komórki guzów złośliwych przyjmują bardzo różnorodne powierzchnie."
      ],
      "metadata": {
        "id": "yuUjyGDPOaUG"
      }
    },
    {
      "cell_type": "code",
      "source": [
        "k <- round(sqrt(length(powierzchnia$zlosliwy)))\n",
        "histogram <- hist(powierzchnia$zlosliwy, main=\"powierzchnie (guzy złośliwe)\", xlab=\"przedziały rozmiarów\", breaks=k)\n",
        "\n",
        "k <- round(sqrt(length(powierzchnia$lagodny)))\n",
        "histogram <- hist(powierzchnia$lagodny, main=\"powierzchnie (guzy łagodne))\", xlab=\"przedziały rozmiarów\", breaks=k)"
      ],
      "metadata": {
        "id": "baCP864vOaFS",
        "colab": {
          "base_uri": "https://localhost:8080/"
        },
        "outputId": "fdcce23e-559f-4894-e61a-22f3f9a15e51"
      },
      "execution_count": null,
      "outputs": [
        {
          "output_type": "display_data",
          "data": {
            "text/plain": [
              "Plot with title “powierzchnie (guzy złośliwe)”"
            ],
            "image/png": "[encoded data removed]"
          },
          "metadata": {
            "image/png": {
              "width": 420,
              "height": 420
            }
          }
        },
        {
          "output_type": "display_data",
          "data": {
            "text/plain": [
              "Plot with title “powierzchnie (guzy łagodne))”"
            ],
            "image/png": "[encoded data removed]"
          },
          "metadata": {
            "image/png": {
              "width": 420,
              "height": 420
            }
          }
        }
      ]
    },
    {
      "cell_type": "markdown",
      "source": [
        "Jeśli chodzi o obwody dane nie są aż tak odbiegające od średniej jak w \n",
        "przypadku powierzchni. Skośność rozkładu dla guzów złośliwych jest prawostronna, a dla łagodnych lewostronna, jednak jest ona nieduża (poniżej 0.5). Kurtozy mają podobne wartości do kurtoz promieni (a dla łagodnych guzów kurtozy są nawet równe)."
      ],
      "metadata": {
        "id": "V7ABWmPmlsZj"
      }
    },
    {
      "cell_type": "code",
      "source": [
        "k <- round(sqrt(length(obwod$zlosliwy)))\n",
        "k\n",
        "histogram <- hist(obwod$zlosliwy, main=\"Obwód (guzy złośliwe)\", xlab=\"przedziały rozmiarów\", breaks=k)\n",
        "\n",
        "k <- round(sqrt(length(obwod$lagodny)))\n",
        "histogram <- hist(obwod$lagodny, main=\"Obwód (guzy łagodne)\", xlab=\"przedziały rozmiarów\", breaks=k)"
      ],
      "metadata": {
        "colab": {
          "base_uri": "https://localhost:8080/"
        },
        "id": "Ty6Zg9FcYHgV",
        "outputId": "6630f284-afa2-4c2d-9761-d464c31e0e8e"
      },
      "execution_count": null,
      "outputs": [
        {
          "output_type": "display_data",
          "data": {
            "text/html": [
              "15"
            ],
            "text/markdown": "15",
            "text/latex": "15",
            "text/plain": [
              "[1] 15"
            ]
          },
          "metadata": {}
        },
        {
          "output_type": "display_data",
          "data": {
            "text/plain": [
              "Plot with title “Obwód (guzy złośliwe)”"
            ],
            "image/png": "[encoded data removed]"
          },
          "metadata": {
            "image/png": {
              "width": 420,
              "height": 420
            }
          }
        },
        {
          "output_type": "display_data",
          "data": {
            "text/plain": [
              "Plot with title “Obwód (guzy łagodne)”"
            ],
            "image/png": "[encoded data removed]"
          },
          "metadata": {
            "image/png": {
              "width": 420,
              "height": 420
            }
          }
        }
      ]
    },
    {
      "cell_type": "markdown",
      "source": [
        "###3.5. Dodatkowe wykresy.\n",
        "\n",
        "###Wizualizacja danych dotyczących diagnozowania guzów łagodnych (0) oraz złośliwych/raków (1).\n",
        "\n",
        "Poniżej znajduje się diagram kołowy wizualizujący częstotliwość diagnozowania guzów łagodnych oraz złośliwych. \n",
        "Spośród 569 pacjentów zdiagnozowano 212 guzów łagodnych, co stanowi 62.74% rozpatrywanych przypadków oraz 357 guzów złośliwych, co stanowi 37.26% przypadków."
      ],
      "metadata": {
        "id": "mM0AWVbAaoDY"
      }
    },
    {
      "cell_type": "code",
      "source": [
        "złośliwy <- sum(data$diagnosis == 0)\n",
        "łagodny <- sum(data$diagnosis == 1)\n",
        "\n",
        "sprintf(\"Liczba zdiagnozowanych guzów złośliwych: %d\", złośliwy)\n",
        "sprintf(\"Liczba zdiagnozowanych guzów łagodnych: %d\", łagodny)\n",
        "slices <- c(złośliwy, łagodny)\n",
        "lbls <- c(\"złośliwy\", \"łagodny\")\n",
        "pr <- round(slices/sum(slices)*100, 2)\n",
        "lbls <- paste(lbls, pr) # dodanie procentów do nazw\n",
        "lbls <- paste(lbls,\"%\",sep=\"\") # dodanie % do nazw\n",
        "pie(slices, labels = lbls, main=\"Diagnozowanie guzów złośliwych i łagodnych\")"
      ],
      "metadata": {
        "id": "TRpxLF8rXLd0",
        "colab": {
          "base_uri": "https://localhost:8080/"
        },
        "outputId": "9aaca6e1-7803-4c86-a0ab-45014da7d666"
      },
      "execution_count": null,
      "outputs": [
        {
          "output_type": "display_data",
          "data": {
            "text/html": [
              "'Liczba zdiagnozowanych guzów złośliwych: 212'"
            ],
            "text/markdown": "'Liczba zdiagnozowanych guzów złośliwych: 212'",
            "text/latex": "'Liczba zdiagnozowanych guzów złośliwych: 212'",
            "text/plain": [
              "[1] \"Liczba zdiagnozowanych guzów złośliwych: 212\""
            ]
          },
          "metadata": {}
        },
        {
          "output_type": "display_data",
          "data": {
            "text/html": [
              "'Liczba zdiagnozowanych guzów łagodnych: 357'"
            ],
            "text/markdown": "'Liczba zdiagnozowanych guzów łagodnych: 357'",
            "text/latex": "'Liczba zdiagnozowanych guzów łagodnych: 357'",
            "text/plain": [
              "[1] \"Liczba zdiagnozowanych guzów łagodnych: 357\""
            ]
          },
          "metadata": {}
        },
        {
          "output_type": "display_data",
          "data": {
            "text/plain": [
              "Plot with title “Diagnozowanie guzów złośliwych i łagodnych”"
            ],
            "image/png": "[encoded data removed]"
          },
          "metadata": {
            "image/png": {
              "width": 420,
              "height": 420
            }
          }
        }
      ]
    },
    {
      "cell_type": "markdown",
      "source": [
        "#2. Test statystyczny."
      ],
      "metadata": {
        "id": "nrdpSF9-yDaZ"
      }
    },
    {
      "cell_type": "markdown",
      "source": [
        "W tej części zostanie przeprowadzony test statystyczny. Sprawdzimy na poziomie istotności 0.05 czy długość dla promieni komórek łagodnych guzów jest średnio równa czy też mniejsza od 12. Naszą populacją będą pacjenci szpitala Wisconsin-Madison, którzy mają zdiagnozowanego guza łagodnego."
      ],
      "metadata": {
        "id": "cYMIPqLlP3tt"
      }
    },
    {
      "cell_type": "code",
      "source": [
        "p1 <- c() #wektor na elementy proby\n",
        "n1 <- 50 #rozmiar proby\n",
        "for (i in 1:50)\n",
        "{\n",
        "      p1 <- append(p1, promienie$lagodny[i])\n",
        "}\n",
        "\n",
        "sigma1 <- round(sd(promienie$lagodny), 2) #odchylenie std populacja\n",
        "mi1 <- mean(promienie$lagodny) #srednia populacji\n",
        "x1 <- mean(p1) #srednia z proby\n",
        "\n",
        "sprintf(\"Odchylenie standardowe populacji dla promieni (guzy łagodne): %f\", sigma1)\n",
        "sprintf(\"Średnia z populacji promieni dla guzów łagodnych: %f\", round(mi1, 2))\n",
        "sprintf(\"Średnia z próbki promieni dla guzów łagodnych: %f\", round(x1, 2))"
      ],
      "metadata": {
        "colab": {
          "base_uri": "https://localhost:8080/",
          "height": 69
        },
        "id": "gyLXKVICQTPl",
        "outputId": "349442c0-797e-460b-bdda-fb673f834ed3"
      },
      "execution_count": 10,
      "outputs": [
        {
          "output_type": "display_data",
          "data": {
            "text/html": [
              "'Odchylenie standardowe populacji dla promieni (guzy łagodne): 1.780000'"
            ],
            "text/markdown": "'Odchylenie standardowe populacji dla promieni (guzy łagodne): 1.780000'",
            "text/latex": "'Odchylenie standardowe populacji dla promieni (guzy łagodne): 1.780000'",
            "text/plain": [
              "[1] \"Odchylenie standardowe populacji dla promieni (guzy łagodne): 1.780000\""
            ]
          },
          "metadata": {}
        },
        {
          "output_type": "display_data",
          "data": {
            "text/html": [
              "'Średnia z populacji promieni dla guzów łagodnych: 12.150000'"
            ],
            "text/markdown": "'Średnia z populacji promieni dla guzów łagodnych: 12.150000'",
            "text/latex": "'Średnia z populacji promieni dla guzów łagodnych: 12.150000'",
            "text/plain": [
              "[1] \"Średnia z populacji promieni dla guzów łagodnych: 12.150000\""
            ]
          },
          "metadata": {}
        },
        {
          "output_type": "display_data",
          "data": {
            "text/html": [
              "'Średnia z próbki promieni dla guzów łagodnych: 11.470000'"
            ],
            "text/markdown": "'Średnia z próbki promieni dla guzów łagodnych: 11.470000'",
            "text/latex": "'Średnia z próbki promieni dla guzów łagodnych: 11.470000'",
            "text/plain": [
              "[1] \"Średnia z próbki promieni dla guzów łagodnych: 11.470000\""
            ]
          },
          "metadata": {}
        }
      ]
    },
    {
      "cell_type": "markdown",
      "source": [
        "Z racji tego, że mamy dużą próbkę (50) i odchylenie standardowe populacji jest znane, a rozkład danych możemy przybliżyć rozkładem normalnym, przeprowadzamy test Z lewostronny. Zdefinujmy hipotezę zerową i alternatywną:\n",
        "\n",
        "H0: µ1 = 12\n",
        "\n",
        "H1: µ1 < 12\n",
        "\n",
        "\n",
        " Wyliczamy wartość statystyki testowej Z:"
      ],
      "metadata": {
        "id": "krWBZBYDQ0cn"
      }
    },
    {
      "cell_type": "code",
      "source": [
        "Z <- (mean(p1)-12)/sd(promienie$lagodny)*sqrt(n1)\n",
        "Z"
      ],
      "metadata": {
        "colab": {
          "base_uri": "https://localhost:8080/",
          "height": 34
        },
        "id": "H11JHYp_RloO",
        "outputId": "d56b98a2-7a7d-441a-b96a-0303e92e3876"
      },
      "execution_count": 11,
      "outputs": [
        {
          "output_type": "display_data",
          "data": {
            "text/html": [
              "-2.12166389138674"
            ],
            "text/markdown": "-2.12166389138674",
            "text/latex": "-2.12166389138674",
            "text/plain": [
              "[1] -2.121664"
            ]
          },
          "metadata": {}
        }
      ]
    },
    {
      "cell_type": "markdown",
      "source": [
        "Wyznaczamy przedział krytyczny:"
      ],
      "metadata": {
        "id": "_HrgusPWRklm"
      }
    },
    {
      "cell_type": "code",
      "source": [
        "alfa <- 0.05\n",
        "qnorm(alfa, mean=0, sd=1)"
      ],
      "metadata": {
        "colab": {
          "base_uri": "https://localhost:8080/",
          "height": 34
        },
        "id": "E2zuO39MRIxp",
        "outputId": "c462a536-5328-4bb9-851f-cb3ea34ab03d"
      },
      "execution_count": 12,
      "outputs": [
        {
          "output_type": "display_data",
          "data": {
            "text/html": [
              "-1.64485362695147"
            ],
            "text/markdown": "-1.64485362695147",
            "text/latex": "-1.64485362695147",
            "text/plain": [
              "[1] -1.644854"
            ]
          },
          "metadata": {}
        }
      ]
    },
    {
      "cell_type": "markdown",
      "source": [
        "Wyznaczony przedział krytyczny to: (-inf, -1.64>. Wartość statystyki testowej jest równa -2.12, więc wpadamy do obszaru krytycznego. Odrzucamy hipotezę zerową i przyjmujemy, że hipoteza alternatywna jest prawdziwa."
      ],
      "metadata": {
        "id": "8p1XBUdLRU7S"
      }
    },
    {
      "cell_type": "markdown",
      "source": [
        "#Podsumowanie\n",
        "\n",
        "Celem tej analizy było ukazanie różnic w trzech podstawowych parametrach opisujących komórki guzów. Istnieją zauważalne różnice pomiędzy tymi guzami i w przybliżeniu można stwierdzić, że guzy złośliwe mają o ponad 40% większe parametry niż guzy łagodne. Na podstawie wyników można też wnioskować, które parametry są najbardziej różnorodne (powierzchnia komórek guzów złośliwych, która miała najwięjsze odchyły od średniej). Wykonany test statystyczny pozwolił nam również przyjąć hipotezę dotyczącą guzów łagodnych, o tym, że ich promień jest średnio mniejszy od 12."
      ],
      "metadata": {
        "id": "-Yfp1Ib1xOVM"
      }
    }
  ]
}