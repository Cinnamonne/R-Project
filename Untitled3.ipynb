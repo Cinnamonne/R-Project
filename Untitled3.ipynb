{
  "nbformat": 4,
  "nbformat_minor": 0,
  "metadata": {
    "colab": {
      "provenance": [],
      "collapsed_sections": [
        "Uk6DsnWzSI4r",
        "L7YY81YisSxe",
        "C2jvZ6lHB-ex",
        "HsUwp82565hn",
        "iDHKKPD6HJbJ",
        "SV00M229lxFB",
        "41knD58HzrDO",
        "l8cgXg-n1Nwb",
        "2Y1TnLyvBtk5"
      ],
      "authorship_tag": "ABX9TyPA8ouyKOdqxpW9Tu3Ysjgb",
      "include_colab_link": true
    },
    "kernelspec": {
      "name": "ir",
      "display_name": "R"
    },
    "language_info": {
      "name": "R"
    }
  },
  "cells": [
    {
      "cell_type": "markdown",
      "metadata": {
        "id": "view-in-github",
        "colab_type": "text"
      },
      "source": [
        "<a href=\"https://colab.research.google.com/github/Cinnamonne/R-Project/blob/main/Untitled3.ipynb\" target=\"_parent\"><img src=\"https://colab.research.google.com/assets/colab-badge.svg\" alt=\"Open In Colab\"/></a>"
      ]
    },
    {
      "cell_type": "markdown",
      "source": [
        "# **1. Dane studenta.**\n",
        "\n",
        "Olga Krużyńska, 151919"
      ],
      "metadata": {
        "id": "0tuZEblYynE2"
      }
    },
    {
      "cell_type": "markdown",
      "source": [
        "# **2. Informacje o zbiorze danych.**\n",
        "\n",
        "Baza danych została znaleziona dzięki stronie https://www.kaggle.com/datasets. Pełny link prowadzący bezpośrednio do zbioru znajduje się na końcu opisu.\n",
        "\n",
        "Badany zbiór danych zawiera informacje o parametrach guzów piersi.\n",
        "Pierwsza kolumna to średnia odległość od środka guza do punktów na obwodzie (promień). Druga odpowiada za teksturę, trzecia za obwód guza. Czwarta kolumna informuje o lokalnych zmianach długości promienia. Piąta odpowiada za pole zajmowane przez guz.\n",
        "Ostatnia kolumna to informacja o postawionej diagnozie (czy guz został uznany za złośliwy (0) czy łagodny (1)).\n",
        "\n",
        "Dane zostały zebrane z badań rzeczywistych pacjentów ze szpitala uniwersyteckiego UW Health. Szpital znajduje się na kampusie Uniwersytetu Wisconsin-Madison w Madison w stanie Wisconsin.\n",
        "\n",
        "\n",
        "\n",
        "Link:\n",
        "https://www.kaggle.com/datasets/merishnasuwal/breast-cancer-prediction-dataset?resource=download&fbclid=IwAR0Ik-Gdmv_KKlXLcyOR1Kv216YQUL7-RlKSePsqWZ7KxJ7dVd3FER2KUcE"
      ],
      "metadata": {
        "id": "XZ8opNoqzDX3"
      }
    },
    {
      "cell_type": "code",
      "execution_count": null,
      "metadata": {
        "id": "l7kp-16EtXZr"
      },
      "outputs": [],
      "source": [
        "options(scipen=999)\n",
        "library(\"readxl\")\n",
        "data<-read_xlsx(\"dane.xlsx\", sheet = 1)\n",
        "data"
      ]
    },
    {
      "cell_type": "markdown",
      "source": [
        "# **3. Analiza eksploracyjna.**\n"
      ],
      "metadata": {
        "id": "Q479iRjVymXV"
      }
    },
    {
      "cell_type": "markdown",
      "source": [
        "###  3.1. Szeregi rozdzielcze i histogramy oraz skośność i kurtoza.\n",
        "\n",
        "W tej sekcji zostaną wyznaczone szeregi rozdzielcze i histogramy dla 4 kolumn z danymi: mean_radius, mean_texture, mean_perimeter oraz mean_area."
      ],
      "metadata": {
        "id": "YZcSYA90TPSZ"
      }
    },
    {
      "cell_type": "code",
      "source": [
        "n<-nrow(data)\n",
        "k<-ceiling(sqrt(n))\n",
        "sprintf(\"Liczba wyznaczonych przedziałów: %d\", k)"
      ],
      "metadata": {
        "colab": {
          "base_uri": "https://localhost:8080/",
          "height": 34
        },
        "id": "ke6pXhM-tyTF",
        "outputId": "87179964-fea1-4571-8f2b-9afe602adf95"
      },
      "execution_count": null,
      "outputs": [
        {
          "output_type": "display_data",
          "data": {
            "text/html": [
              "'Liczba wyznaczonych przedziałów: 24'"
            ],
            "text/markdown": "'Liczba wyznaczonych przedziałów: 24'",
            "text/latex": "'Liczba wyznaczonych przedziałów: 24'",
            "text/plain": [
              "[1] \"Liczba wyznaczonych przedziałów: 24\""
            ]
          },
          "metadata": {}
        }
      ]
    },
    {
      "cell_type": "code",
      "source": [
        "sprintf(\"Tabelka z przedziałami i licznością mean_radius:\" )\n",
        "distrib=table(cut(as.numeric(unlist(data[,1])), k))\n",
        "distrib\n",
        "barplot(distrib, xlab = \"Przedziały\", ylab=\"Liczność\", main = \"mean_radius\")"
      ],
      "metadata": {
        "id": "Rmbq366AuZWt",
        "colab": {
          "base_uri": "https://localhost:8080/",
          "height": 611
        },
        "outputId": "cca6e687-c2fb-4da1-ae65-8cd9114213c4"
      },
      "execution_count": null,
      "outputs": [
        {
          "output_type": "display_data",
          "data": {
            "text/html": [
              "'Tabelka z przedziałami i licznością mean_radius:'"
            ],
            "text/markdown": "'Tabelka z przedziałami i licznością mean_radius:'",
            "text/latex": "'Tabelka z przedziałami i licznością mean\\_radius:'",
            "text/plain": [
              "[1] \"Tabelka z przedziałami i licznością mean_radius:\""
            ]
          },
          "metadata": {}
        },
        {
          "output_type": "display_data",
          "data": {
            "text/plain": [
              "\n",
              "(6.96,7.86] (7.86,8.74] (8.74,9.62] (9.62,10.5] (10.5,11.4] (11.4,12.3] \n",
              "          4           9          18          34          50          76 \n",
              "(12.3,13.1]   (13.1,14]   (14,14.9] (14.9,15.8] (15.8,16.7] (16.7,17.5] \n",
              "         77          70          49          40          20          20 \n",
              "(17.5,18.4] (18.4,19.3] (19.3,20.2] (20.2,21.1] (21.1,21.9] (21.9,22.8] \n",
              "         19          21          22          18           8           2 \n",
              "(22.8,23.7] (23.7,24.6] (24.6,25.5] (25.5,26.3] (26.3,27.2] (27.2,28.1] \n",
              "          5           1           2           1           1           2 "
            ]
          },
          "metadata": {}
        },
        {
          "output_type": "display_data",
          "data": {
            "text/plain": [
              "Plot with title “mean_radius”"
            ],
            "image/png": "[encoded data removed]"
          },
          "metadata": {
            "image/png": {
              "width": 420,
              "height": 420
            }
          }
        }
      ]
    },
    {
      "cell_type": "code",
      "source": [
        "sprintf(\"Tabelka z przedziałami i licznością mean_texture:\" )\n",
        "distrib=table(cut(as.numeric(unlist(data[,2])), k))\n",
        "distrib\n",
        "barplot(distrib, xlab = \"Przedziały\", ylab=\"Liczność\", main = \"main_texture\")\n",
        "sprintf(\"\")"
      ],
      "metadata": {
        "id": "L0r-_OOCVWdM",
        "colab": {
          "base_uri": "https://localhost:8080/",
          "height": 628
        },
        "outputId": "9114ff34-1952-4acc-80f4-92b5f8b70119"
      },
      "execution_count": null,
      "outputs": [
        {
          "output_type": "display_data",
          "data": {
            "text/html": [
              "'Tabelka z przedziałami i licznością mean_texture:'"
            ],
            "text/markdown": "'Tabelka z przedziałami i licznością mean_texture:'",
            "text/latex": "'Tabelka z przedziałami i licznością mean\\_texture:'",
            "text/plain": [
              "[1] \"Tabelka z przedziałami i licznością mean_texture:\""
            ]
          },
          "metadata": {}
        },
        {
          "output_type": "display_data",
          "data": {
            "text/plain": [
              "\n",
              "(9.68,10.9] (10.9,12.2] (12.2,13.4] (13.4,14.6] (14.6,15.9] (15.9,17.1] \n",
              "          7           5          29          29          59          56 \n",
              "(17.1,18.3] (18.3,19.6] (19.6,20.8]   (20.8,22]   (22,23.3] (23.3,24.5] \n",
              "         71          65          62          56          37          25 \n",
              "(24.5,25.7]   (25.7,27]   (27,28.2] (28.2,29.4] (29.4,30.7] (30.7,31.9] \n",
              "         25           9          15           9           4           2 \n",
              "(31.9,33.1] (33.1,34.4] (34.4,35.6] (35.6,36.8]   (36.8,38]   (38,39.3] \n",
              "          1           2           0           0           0           1 "
            ]
          },
          "metadata": {}
        },
        {
          "output_type": "display_data",
          "data": {
            "text/html": [
              "''"
            ],
            "text/markdown": "''",
            "text/latex": "''",
            "text/plain": [
              "[1] \"\""
            ]
          },
          "metadata": {}
        },
        {
          "output_type": "display_data",
          "data": {
            "text/plain": [
              "plot without title"
            ],
            "image/png": "[encoded data removed]"
          },
          "metadata": {
            "image/png": {
              "width": 420,
              "height": 420
            }
          }
        }
      ]
    },
    {
      "cell_type": "code",
      "source": [
        "sprintf(\"Tabelka z przedziałami i licznością mean_perimeter:\" )\n",
        "distrib=table(cut(as.numeric(unlist(data[,3])), k))\n",
        "distrib\n",
        "barplot(distrib, xlab = \"Przedziały\", ylab=\"Liczność\", main = \"mean_perimeter\")"
      ],
      "metadata": {
        "id": "VS3wsKjktWjG",
        "colab": {
          "base_uri": "https://localhost:8080/",
          "height": 611
        },
        "outputId": "530d5d31-054b-4e76-bbcd-ec4444646238"
      },
      "execution_count": null,
      "outputs": [
        {
          "output_type": "display_data",
          "data": {
            "text/html": [
              "'Tabelka z przedziałami i licznością mean_perimeter:'"
            ],
            "text/markdown": "'Tabelka z przedziałami i licznością mean_perimeter:'",
            "text/latex": "'Tabelka z przedziałami i licznością mean\\_perimeter:'",
            "text/plain": [
              "[1] \"Tabelka z przedziałami i licznością mean_perimeter:\""
            ]
          },
          "metadata": {}
        },
        {
          "output_type": "display_data",
          "data": {
            "text/plain": [
              "\n",
              "(43.6,49.8] (49.8,55.8] (55.8,61.9] (61.9,67.9] (67.9,73.9]   (73.9,80] \n",
              "          4           9          25          30          60          80 \n",
              "    (80,86]     (86,92]   (92,98.1]  (98.1,104]   (104,110]   (110,116] \n",
              "         74          61          54          29          25          20 \n",
              "  (116,122]   (122,128]   (128,134]   (134,140]   (140,146]   (146,152] \n",
              "         20          18          24          14           7           4 \n",
              "  (152,158]   (158,164]   (164,170]   (170,176]   (176,182]   (182,189] \n",
              "          3           1           2           2           1           2 "
            ]
          },
          "metadata": {}
        },
        {
          "output_type": "display_data",
          "data": {
            "text/plain": [
              "plot without title"
            ],
            "image/png": "[encoded data removed]"
          },
          "metadata": {
            "image/png": {
              "width": 420,
              "height": 420
            }
          }
        }
      ]
    },
    {
      "cell_type": "code",
      "source": [
        "sprintf(\"Tabelka z przedziałami i licznością mean_area:\" )\n",
        "distrib=table(cut(as.numeric(unlist(data[,4])), k, dig.lab = 4))\n",
        "distrib\n",
        "barplot(distrib, xlab = \"Przedziały\", ylab=\"Liczność\", main = \"mean_area\")"
      ],
      "metadata": {
        "id": "DbOwFD_DtYDO",
        "colab": {
          "base_uri": "https://localhost:8080/",
          "height": 645
        },
        "outputId": "c5698a1a-3e37-4faa-ad6e-5c948963a61e"
      },
      "execution_count": null,
      "outputs": [
        {
          "output_type": "display_data",
          "data": {
            "text/html": [
              "'Tabelka z przedziałami i licznością mean_area:'"
            ],
            "text/markdown": "'Tabelka z przedziałami i licznością mean_area:'",
            "text/latex": "'Tabelka z przedziałami i licznością mean\\_area:'",
            "text/plain": [
              "[1] \"Tabelka z przedziałami i licznością mean_area:\""
            ]
          },
          "metadata": {}
        },
        {
          "output_type": "display_data",
          "data": {
            "text/plain": [
              "\n",
              "(141.1,241.7]   (241.7,340]   (340,438.2] (438.2,536.4] (536.4,634.6] \n",
              "           14            54            96           106            82 \n",
              "(634.6,732.9] (732.9,831.1] (831.1,929.3]  (929.3,1028]   (1028,1126] \n",
              "           61            29            18            22            17 \n",
              "  (1126,1224]   (1224,1322]   (1322,1420]   (1420,1519]   (1519,1617] \n",
              "           23            21             9             4             1 \n",
              "  (1617,1715]   (1715,1813]   (1813,1912]   (1912,2010]   (2010,2108] \n",
              "            4             2             2             0             1 \n",
              "  (2108,2206]   (2206,2305]   (2305,2403]   (2403,2503] \n",
              "            0             1             0             2 "
            ]
          },
          "metadata": {}
        },
        {
          "output_type": "display_data",
          "data": {
            "text/plain": [
              "Plot with title “mean_area”"
            ],
            "image/png": "[encoded data removed]"
          },
          "metadata": {
            "image/png": {
              "width": 420,
              "height": 420
            }
          }
        }
      ]
    },
    {
      "cell_type": "markdown",
      "source": [
        "###Krótkie podsumowanie histogramów.\n",
        "\n",
        "Każdy z histogramów jest unimodalny.\n",
        "Żaden nie jest symetryczny - wszystkie są antysymetryczne i skośne prawostronnie. Najbardziej widoczne jest dla czwartego histogramu (mean_area) oraz trzeciego (mean_perimeter).\n"
      ],
      "metadata": {
        "id": "qoudrybQ9qO0"
      }
    },
    {
      "cell_type": "markdown",
      "source": [
        "### 3.2. Wartości statystyk opisowych - miary tendencji centralnej.\n",
        "W tej sekcji zostaną wyznaczone miary tendencji centralnej, tj. wartości średniej, mediany i dominanty.\n",
        "Zostaną one wyzaczone dla pierwszych pięciu kolumn: mean_radius, mean_texture, mean_perimeter, mean_area oraz mean_smoothness. Na końcu tej sekcji znajduje się tabela z zestawionymi wartościami."
      ],
      "metadata": {
        "id": "XLB8yXzr2uwK"
      }
    },
    {
      "cell_type": "markdown",
      "source": [
        "###  Średnia.\n",
        "Średnia została wyznaczona za pomocą funkcji average(). Wyznaczone średnie zostały zapisane w wektorze average_vect. "
      ],
      "metadata": {
        "id": "Uk6DsnWzSI4r"
      }
    },
    {
      "cell_type": "code",
      "source": [
        "average_vect<-c()\n",
        "sprintf(\"Średnia dla kolumny mean_radius:\")\n",
        "average_vect <- append(average_vect, round(mean(unlist(data[,1])), 3))\n",
        "average_vect[1]\n",
        "sprintf(\"Średnia dla kolumny mean_texture:\")\n",
        "average_vect <- append(average_vect, round(mean(unlist(data[,2])), 3))\n",
        "average_vect[2]\n",
        "sprintf(\"Średnia dla kolumny mean_perimeter:\")\n",
        "average_vect <- append(average_vect, round(mean(unlist(data[,3])), 3))\n",
        "average_vect[3]\n",
        "sprintf(\"Średnia dla kolumny mean_area:\")\n",
        "average_vect <- append(average_vect, round(mean(unlist(data[,4])), 3))\n",
        "average_vect[4]\n",
        "sprintf(\"Średnia dla kolumny mean_smoothness:\")\n",
        "average_vect <- append(average_vect, round(mean(unlist(data[,5])), 3))\n",
        "average_vect[5]"
      ],
      "metadata": {
        "colab": {
          "base_uri": "https://localhost:8080/"
        },
        "id": "96BQIKVmSH-Y",
        "outputId": "82315b73-23d5-4018-9e2e-3b269b8a3021"
      },
      "execution_count": null,
      "outputs": [
        {
          "output_type": "display_data",
          "data": {
            "text/html": [
              "'Średnia dla kolumny mean_radius:'"
            ],
            "text/markdown": "'Średnia dla kolumny mean_radius:'",
            "text/latex": "'Średnia dla kolumny mean\\_radius:'",
            "text/plain": [
              "[1] \"Średnia dla kolumny mean_radius:\""
            ]
          },
          "metadata": {}
        },
        {
          "output_type": "display_data",
          "data": {
            "text/html": [
              "14.127"
            ],
            "text/markdown": "14.127",
            "text/latex": "14.127",
            "text/plain": [
              "[1] 14.127"
            ]
          },
          "metadata": {}
        },
        {
          "output_type": "display_data",
          "data": {
            "text/html": [
              "'Średnia dla kolumny mean_texture:'"
            ],
            "text/markdown": "'Średnia dla kolumny mean_texture:'",
            "text/latex": "'Średnia dla kolumny mean\\_texture:'",
            "text/plain": [
              "[1] \"Średnia dla kolumny mean_texture:\""
            ]
          },
          "metadata": {}
        },
        {
          "output_type": "display_data",
          "data": {
            "text/html": [
              "19.29"
            ],
            "text/markdown": "19.29",
            "text/latex": "19.29",
            "text/plain": [
              "[1] 19.29"
            ]
          },
          "metadata": {}
        },
        {
          "output_type": "display_data",
          "data": {
            "text/html": [
              "'Średnia dla kolumny mean_perimeter:'"
            ],
            "text/markdown": "'Średnia dla kolumny mean_perimeter:'",
            "text/latex": "'Średnia dla kolumny mean\\_perimeter:'",
            "text/plain": [
              "[1] \"Średnia dla kolumny mean_perimeter:\""
            ]
          },
          "metadata": {}
        },
        {
          "output_type": "display_data",
          "data": {
            "text/html": [
              "91.969"
            ],
            "text/markdown": "91.969",
            "text/latex": "91.969",
            "text/plain": [
              "[1] 91.969"
            ]
          },
          "metadata": {}
        },
        {
          "output_type": "display_data",
          "data": {
            "text/html": [
              "'Średnia dla kolumny mean_area:'"
            ],
            "text/markdown": "'Średnia dla kolumny mean_area:'",
            "text/latex": "'Średnia dla kolumny mean\\_area:'",
            "text/plain": [
              "[1] \"Średnia dla kolumny mean_area:\""
            ]
          },
          "metadata": {}
        },
        {
          "output_type": "display_data",
          "data": {
            "text/html": [
              "654.889"
            ],
            "text/markdown": "654.889",
            "text/latex": "654.889",
            "text/plain": [
              "[1] 654.889"
            ]
          },
          "metadata": {}
        },
        {
          "output_type": "display_data",
          "data": {
            "text/html": [
              "'Średnia dla kolumny mean_smoothness:'"
            ],
            "text/markdown": "'Średnia dla kolumny mean_smoothness:'",
            "text/latex": "'Średnia dla kolumny mean\\_smoothness:'",
            "text/plain": [
              "[1] \"Średnia dla kolumny mean_smoothness:\""
            ]
          },
          "metadata": {}
        },
        {
          "output_type": "display_data",
          "data": {
            "text/html": [
              "0.096"
            ],
            "text/markdown": "0.096",
            "text/latex": "0.096",
            "text/plain": [
              "[1] 0.096"
            ]
          },
          "metadata": {}
        }
      ]
    },
    {
      "cell_type": "markdown",
      "source": [
        "### Mediana.\n",
        "Mediana została wyznaczona za pomocą funkcji median(). Wyznaczone wartości zostały zapisane w wektorze median_vect."
      ],
      "metadata": {
        "id": "L7YY81YisSxe"
      }
    },
    {
      "cell_type": "code",
      "source": [
        "median_vect<-c()\n",
        "sprintf(\"Mediana dla kolumny mean_radius:\")\n",
        "median_vect<- append(median_vect, median(unlist(data[,1])))\n",
        "median_vect[1]\n",
        "sprintf(\"Mediana dla kolumny mean_texture:\")\n",
        "median_vect<- append(median_vect, median(unlist(data[,2])))\n",
        "median_vect[2]\n",
        "sprintf(\"Mediana dla kolumny perimeter_mean:\")\n",
        "median_vect<- append(median_vect, median(unlist(data[,3])))\n",
        "median_vect[3]\n",
        "sprintf(\"Mediana dla kolumny area_mean:\")\n",
        "median_vect<- append(median_vect, median(unlist(data[,4])))\n",
        "median_vect[4]\n",
        "sprintf(\"Mediana dla kolumny smoothness_mean:\")\n",
        "median_vect<- append(median_vect, median(unlist(data[,5])))\n",
        "median_vect[5]"
      ],
      "metadata": {
        "colab": {
          "base_uri": "https://localhost:8080/"
        },
        "id": "veOUzI-ysQpq",
        "outputId": "376e4cbd-fce5-48bf-f493-7cc001f7ac45"
      },
      "execution_count": null,
      "outputs": [
        {
          "output_type": "display_data",
          "data": {
            "text/html": [
              "'Mediana dla kolumny mean_radius:'"
            ],
            "text/markdown": "'Mediana dla kolumny mean_radius:'",
            "text/latex": "'Mediana dla kolumny mean\\_radius:'",
            "text/plain": [
              "[1] \"Mediana dla kolumny mean_radius:\""
            ]
          },
          "metadata": {}
        },
        {
          "output_type": "display_data",
          "data": {
            "text/html": [
              "13.37"
            ],
            "text/markdown": "13.37",
            "text/latex": "13.37",
            "text/plain": [
              "[1] 13.37"
            ]
          },
          "metadata": {}
        },
        {
          "output_type": "display_data",
          "data": {
            "text/html": [
              "'Mediana dla kolumny mean_texture:'"
            ],
            "text/markdown": "'Mediana dla kolumny mean_texture:'",
            "text/latex": "'Mediana dla kolumny mean\\_texture:'",
            "text/plain": [
              "[1] \"Mediana dla kolumny mean_texture:\""
            ]
          },
          "metadata": {}
        },
        {
          "output_type": "display_data",
          "data": {
            "text/html": [
              "18.84"
            ],
            "text/markdown": "18.84",
            "text/latex": "18.84",
            "text/plain": [
              "[1] 18.84"
            ]
          },
          "metadata": {}
        },
        {
          "output_type": "display_data",
          "data": {
            "text/html": [
              "'Mediana dla kolumny perimeter_mean:'"
            ],
            "text/markdown": "'Mediana dla kolumny perimeter_mean:'",
            "text/latex": "'Mediana dla kolumny perimeter\\_mean:'",
            "text/plain": [
              "[1] \"Mediana dla kolumny perimeter_mean:\""
            ]
          },
          "metadata": {}
        },
        {
          "output_type": "display_data",
          "data": {
            "text/html": [
              "86.24"
            ],
            "text/markdown": "86.24",
            "text/latex": "86.24",
            "text/plain": [
              "[1] 86.24"
            ]
          },
          "metadata": {}
        },
        {
          "output_type": "display_data",
          "data": {
            "text/html": [
              "'Mediana dla kolumny area_mean:'"
            ],
            "text/markdown": "'Mediana dla kolumny area_mean:'",
            "text/latex": "'Mediana dla kolumny area\\_mean:'",
            "text/plain": [
              "[1] \"Mediana dla kolumny area_mean:\""
            ]
          },
          "metadata": {}
        },
        {
          "output_type": "display_data",
          "data": {
            "text/html": [
              "551.1"
            ],
            "text/markdown": "551.1",
            "text/latex": "551.1",
            "text/plain": [
              "[1] 551.1"
            ]
          },
          "metadata": {}
        },
        {
          "output_type": "display_data",
          "data": {
            "text/html": [
              "'Mediana dla kolumny smoothness_mean:'"
            ],
            "text/markdown": "'Mediana dla kolumny smoothness_mean:'",
            "text/latex": "'Mediana dla kolumny smoothness\\_mean:'",
            "text/plain": [
              "[1] \"Mediana dla kolumny smoothness_mean:\""
            ]
          },
          "metadata": {}
        },
        {
          "output_type": "display_data",
          "data": {
            "text/html": [
              "0.09587"
            ],
            "text/markdown": "0.09587",
            "text/latex": "0.09587",
            "text/plain": [
              "[1] 0.09587"
            ]
          },
          "metadata": {}
        }
      ]
    },
    {
      "cell_type": "markdown",
      "source": [
        "###Dominanta.\n",
        "Zostanie ona wyznaczona na dwa sposoby. Z racji tego, że mamy doczynienia z danymi ciągłymi, nie ma sensu wyznaczać dominanty w taki sposób jak na zajęciach (mieliśmy do czynienia z wartościami dyskretnymi), jednak zostanie to zrobione. Kolejny sposób to zaokrąglenie wartości do połówek. Inny to wybranie najczęściej pojawiającego się przedziału i uśrednienie wartości z tego przedziału."
      ],
      "metadata": {
        "id": "C2jvZ6lHB-ex"
      }
    },
    {
      "cell_type": "code",
      "source": [
        "mode_vect<-c(3,1,3,3,1)"
      ],
      "metadata": {
        "id": "Aiw4mHf8B-Fa"
      },
      "execution_count": null,
      "outputs": []
    },
    {
      "cell_type": "markdown",
      "source": [
        "###Zestawienie obliczonych statystyk w tabeli."
      ],
      "metadata": {
        "id": "HsUwp82565hn"
      }
    },
    {
      "cell_type": "code",
      "source": [
        "df<- data.frame(\"Mediana\" = median_vect, \n",
        "                \"Średnia\" = average_vect,\n",
        "                \"Dominanta\" = mode_vect)\n",
        "\n",
        "rownames(df)<-c(\"Mean_radius\",\"Mean_texture\", \"Mean_perimeter\", \"Mean_area\", \"Mean_smoothness\")\n",
        "df$Mediana<-round(df$Mediana, 2)\n",
        "df$Średnia<-round(df$Średnia,2)\n",
        "df"
      ],
      "metadata": {
        "id": "jXUg9eL_6-WD"
      },
      "execution_count": null,
      "outputs": []
    },
    {
      "cell_type": "markdown",
      "source": [],
      "metadata": {
        "id": "3dvcTvxuFsH1"
      }
    },
    {
      "cell_type": "markdown",
      "source": [
        "###Podsumowanie sekcji."
      ],
      "metadata": {
        "id": "uTsCsdyJGmL4"
      }
    },
    {
      "cell_type": "markdown",
      "source": [
        "###3.3. Miary rozproszenia.\n",
        "W tej sekcji wyznaczone zostaną poziomy rozproszenia wartości, tj. rozstęp, wariancja, odchylenie standardowe."
      ],
      "metadata": {
        "id": "UEMH1-K0GwT0"
      }
    },
    {
      "cell_type": "markdown",
      "source": [
        "### Rozstęp danych."
      ],
      "metadata": {
        "id": "iDHKKPD6HJbJ"
      }
    },
    {
      "cell_type": "code",
      "source": [
        "rozst_vect<-c()\n",
        "sprintf(\"Rozstęp dla kolumny mean_radius:\")\n",
        "r <- max(unlist(data[,1])) - min(unlist(data[,1]))\n",
        "rozst_vect <- append(rozst_vect, r)\n",
        "rozst_vect[1]\n",
        "\n",
        "sprintf(\"Rozstęp dla kolumny mean_texture:\")\n",
        "r <- max(unlist(data[,2])) - min(unlist(data[,2]))\n",
        "rozst_vect <- append(rozst_vect, r)\n",
        "rozst_vect[2]\n",
        "\n",
        "sprintf(\"Rozstęp dla kolumny mean_perimeter:\")\n",
        "r <- max(unlist(data[,3])) - min(unlist(data[,3]))\n",
        "rozst_vect <- append(rozst_vect, r)\n",
        "rozst_vect[3]\n",
        "\n",
        "\n",
        "sprintf(\"Rozstęp dla kolumny mean_area:\")\n",
        "r <- max(unlist(data[,4])) - min(unlist(data[,4]))\n",
        "rozst_vect <- append(rozst_vect, r)\n",
        "rozst_vect[4]\n",
        "\n",
        "sprintf(\"Rozstęp dla kolumny mean_smoothness:\")\n",
        "r <- round(max(unlist(data[,5])) - min(unlist(data[,5])),2)\n",
        "rozst_vect <- append(rozst_vect, r)\n",
        "rozst_vect[5]"
      ],
      "metadata": {
        "colab": {
          "base_uri": "https://localhost:8080/",
          "height": 191
        },
        "id": "2EdVNkcZIHBS",
        "outputId": "4d4f5e19-3519-484c-ea70-65f0637c37bb"
      },
      "execution_count": null,
      "outputs": [
        {
          "output_type": "display_data",
          "data": {
            "text/html": [
              "'Rozstęp dla kolumny mean_radius:'"
            ],
            "text/markdown": "'Rozstęp dla kolumny mean_radius:'",
            "text/latex": "'Rozstęp dla kolumny mean\\_radius:'",
            "text/plain": [
              "[1] \"Rozstęp dla kolumny mean_radius:\""
            ]
          },
          "metadata": {}
        },
        {
          "output_type": "display_data",
          "data": {
            "text/html": [
              "21.129"
            ],
            "text/markdown": "21.129",
            "text/latex": "21.129",
            "text/plain": [
              "[1] 21.129"
            ]
          },
          "metadata": {}
        },
        {
          "output_type": "display_data",
          "data": {
            "text/html": [
              "'Rozstęp dla kolumny mean_texture:'"
            ],
            "text/markdown": "'Rozstęp dla kolumny mean_texture:'",
            "text/latex": "'Rozstęp dla kolumny mean\\_texture:'",
            "text/plain": [
              "[1] \"Rozstęp dla kolumny mean_texture:\""
            ]
          },
          "metadata": {}
        },
        {
          "output_type": "display_data",
          "data": {
            "text/html": [
              "29.57"
            ],
            "text/markdown": "29.57",
            "text/latex": "29.57",
            "text/plain": [
              "[1] 29.57"
            ]
          },
          "metadata": {}
        },
        {
          "output_type": "display_data",
          "data": {
            "text/html": [
              "'Rozstęp dla kolumny mean_perimeter:'"
            ],
            "text/markdown": "'Rozstęp dla kolumny mean_perimeter:'",
            "text/latex": "'Rozstęp dla kolumny mean\\_perimeter:'",
            "text/plain": [
              "[1] \"Rozstęp dla kolumny mean_perimeter:\""
            ]
          },
          "metadata": {}
        },
        {
          "output_type": "display_data",
          "data": {
            "text/html": [
              "144.71"
            ],
            "text/markdown": "144.71",
            "text/latex": "144.71",
            "text/plain": [
              "[1] 144.71"
            ]
          },
          "metadata": {}
        },
        {
          "output_type": "display_data",
          "data": {
            "text/html": [
              "'Rozstęp dla kolumny mean_area:'"
            ],
            "text/markdown": "'Rozstęp dla kolumny mean_area:'",
            "text/latex": "'Rozstęp dla kolumny mean\\_area:'",
            "text/plain": [
              "[1] \"Rozstęp dla kolumny mean_area:\""
            ]
          },
          "metadata": {}
        },
        {
          "output_type": "display_data",
          "data": {
            "text/html": [
              "2357.5"
            ],
            "text/markdown": "2357.5",
            "text/latex": "2357.5",
            "text/plain": [
              "[1] 2357.5"
            ]
          },
          "metadata": {}
        },
        {
          "output_type": "display_data",
          "data": {
            "text/html": [
              "'Rozstęp dla kolumny mean_smoothness:'"
            ],
            "text/markdown": "'Rozstęp dla kolumny mean_smoothness:'",
            "text/latex": "'Rozstęp dla kolumny mean\\_smoothness:'",
            "text/plain": [
              "[1] \"Rozstęp dla kolumny mean_smoothness:\""
            ]
          },
          "metadata": {}
        },
        {
          "output_type": "display_data",
          "data": {
            "text/html": [
              "0.11"
            ],
            "text/markdown": "0.11",
            "text/latex": "0.11",
            "text/plain": [
              "[1] 0.11"
            ]
          },
          "metadata": {}
        }
      ]
    },
    {
      "cell_type": "markdown",
      "source": [
        "###Wariancja."
      ],
      "metadata": {
        "id": "SV00M229lxFB"
      }
    },
    {
      "cell_type": "code",
      "source": [
        "var_vect<-c()\n",
        "sprintf(\"Wariancja dla kolumny mean_radius:\")\n",
        "var_vect <- append(var_vect, round(var(unlist(data[,1])),2))\n",
        "var_vect[1]\n",
        "\n",
        "sprintf(\"Wariancja dla kolumny mean_texture:\")\n",
        "var_vect <- append(var_vect, round(var(unlist(data[,2])),2))\n",
        "var_vect[2]\n",
        "\n",
        "sprintf(\"Wariancja dla kolumny mean_perimeter:\")\n",
        "var_vect <- append(var_vect, round(var(unlist(data[,3])),2))\n",
        "var_vect[3]\n",
        "\n",
        "sprintf(\"Wariancja dla kolumny mean_area:\")\n",
        "var_vect <- append(var_vect, round(var(unlist(data[,4])),2))\n",
        "var_vect[4]\n",
        "\n",
        "sprintf(\"Wariancja dla kolumny mean_smoothness:\")\n",
        "var_vect <- append(var_vect, round( var(unlist(data[,5])),4))\n",
        "var_vect[5]"
      ],
      "metadata": {
        "colab": {
          "base_uri": "https://localhost:8080/",
          "height": 191
        },
        "id": "Bsd1r719lwm9",
        "outputId": "a9ac20ae-3ed4-4956-d740-fa286e4e7c40"
      },
      "execution_count": null,
      "outputs": [
        {
          "output_type": "display_data",
          "data": {
            "text/html": [
              "'Wariancja dla kolumny mean_radius:'"
            ],
            "text/markdown": "'Wariancja dla kolumny mean_radius:'",
            "text/latex": "'Wariancja dla kolumny mean\\_radius:'",
            "text/plain": [
              "[1] \"Wariancja dla kolumny mean_radius:\""
            ]
          },
          "metadata": {}
        },
        {
          "output_type": "display_data",
          "data": {
            "text/html": [
              "12.42"
            ],
            "text/markdown": "12.42",
            "text/latex": "12.42",
            "text/plain": [
              "[1] 12.42"
            ]
          },
          "metadata": {}
        },
        {
          "output_type": "display_data",
          "data": {
            "text/html": [
              "'Wariancja dla kolumny mean_texture:'"
            ],
            "text/markdown": "'Wariancja dla kolumny mean_texture:'",
            "text/latex": "'Wariancja dla kolumny mean\\_texture:'",
            "text/plain": [
              "[1] \"Wariancja dla kolumny mean_texture:\""
            ]
          },
          "metadata": {}
        },
        {
          "output_type": "display_data",
          "data": {
            "text/html": [
              "18.5"
            ],
            "text/markdown": "18.5",
            "text/latex": "18.5",
            "text/plain": [
              "[1] 18.5"
            ]
          },
          "metadata": {}
        },
        {
          "output_type": "display_data",
          "data": {
            "text/html": [
              "'Wariancja dla kolumny mean_perimeter:'"
            ],
            "text/markdown": "'Wariancja dla kolumny mean_perimeter:'",
            "text/latex": "'Wariancja dla kolumny mean\\_perimeter:'",
            "text/plain": [
              "[1] \"Wariancja dla kolumny mean_perimeter:\""
            ]
          },
          "metadata": {}
        },
        {
          "output_type": "display_data",
          "data": {
            "text/html": [
              "590.44"
            ],
            "text/markdown": "590.44",
            "text/latex": "590.44",
            "text/plain": [
              "[1] 590.44"
            ]
          },
          "metadata": {}
        },
        {
          "output_type": "display_data",
          "data": {
            "text/html": [
              "'Wariancja dla kolumny mean_area:'"
            ],
            "text/markdown": "'Wariancja dla kolumny mean_area:'",
            "text/latex": "'Wariancja dla kolumny mean\\_area:'",
            "text/plain": [
              "[1] \"Wariancja dla kolumny mean_area:\""
            ]
          },
          "metadata": {}
        },
        {
          "output_type": "display_data",
          "data": {
            "text/html": [
              "123843.55"
            ],
            "text/markdown": "123843.55",
            "text/latex": "123843.55",
            "text/plain": [
              "[1] 123843.6"
            ]
          },
          "metadata": {}
        },
        {
          "output_type": "display_data",
          "data": {
            "text/html": [
              "'Wariancja dla kolumny mean_smoothness:'"
            ],
            "text/markdown": "'Wariancja dla kolumny mean_smoothness:'",
            "text/latex": "'Wariancja dla kolumny mean\\_smoothness:'",
            "text/plain": [
              "[1] \"Wariancja dla kolumny mean_smoothness:\""
            ]
          },
          "metadata": {}
        },
        {
          "output_type": "display_data",
          "data": {
            "text/html": [
              "0.0002"
            ],
            "text/markdown": "0.0002",
            "text/latex": "0.0002",
            "text/plain": [
              "[1] 0.0002"
            ]
          },
          "metadata": {}
        }
      ]
    },
    {
      "cell_type": "markdown",
      "source": [
        "###Odchylenie standardowe."
      ],
      "metadata": {
        "id": "41knD58HzrDO"
      }
    },
    {
      "cell_type": "code",
      "source": [
        "deviat_vect<-c()\n",
        "sprintf(\"Odchylenie standardowe dla kolumny mean_radius:\")\n",
        "deviat_vect <- append(deviat_vect, round(sd(unlist(data[,1])),2))\n",
        "deviat_vect[1]\n",
        "\n",
        "sprintf(\"Odchylenie standardowe dla kolumny mean_texture:\")\n",
        "deviat_vect <- append(deviat_vect, round(sd(unlist(data[,2])),2))\n",
        "deviat_vect[2]\n",
        "\n",
        "sprintf(\"Odchylenie standardowe dla kolumny mean_perimeter:\")\n",
        "deviat_vect <- append(deviat_vect, round(sd(unlist(data[,3])),2))\n",
        "deviat_vect[3]\n",
        "\n",
        "sprintf(\"Odchylenie standardowe dla kolumny mean_area:\")\n",
        "deviat_vect <- append(deviat_vect, round(sd(unlist(data[,4])),2))\n",
        "deviat_vect[4]\n",
        "\n",
        "sprintf(\"Odchylenie standardowe dla kolumny mean_smoothness:\")\n",
        "deviat_vect <- append(deviat_vect, round( sd(unlist(data[,5])),3))\n",
        "deviat_vect[5]"
      ],
      "metadata": {
        "colab": {
          "base_uri": "https://localhost:8080/",
          "height": 191
        },
        "id": "MaMAlhWkzqNl",
        "outputId": "b3ddddd8-72ad-44b1-9cc8-4c7ff172659a"
      },
      "execution_count": null,
      "outputs": [
        {
          "output_type": "display_data",
          "data": {
            "text/html": [
              "'Odchylenie standardowe dla kolumny mean_radius:'"
            ],
            "text/markdown": "'Odchylenie standardowe dla kolumny mean_radius:'",
            "text/latex": "'Odchylenie standardowe dla kolumny mean\\_radius:'",
            "text/plain": [
              "[1] \"Odchylenie standardowe dla kolumny mean_radius:\""
            ]
          },
          "metadata": {}
        },
        {
          "output_type": "display_data",
          "data": {
            "text/html": [
              "3.52"
            ],
            "text/markdown": "3.52",
            "text/latex": "3.52",
            "text/plain": [
              "[1] 3.52"
            ]
          },
          "metadata": {}
        },
        {
          "output_type": "display_data",
          "data": {
            "text/html": [
              "'Odchylenie standardowe dla kolumny mean_texture:'"
            ],
            "text/markdown": "'Odchylenie standardowe dla kolumny mean_texture:'",
            "text/latex": "'Odchylenie standardowe dla kolumny mean\\_texture:'",
            "text/plain": [
              "[1] \"Odchylenie standardowe dla kolumny mean_texture:\""
            ]
          },
          "metadata": {}
        },
        {
          "output_type": "display_data",
          "data": {
            "text/html": [
              "4.3"
            ],
            "text/markdown": "4.3",
            "text/latex": "4.3",
            "text/plain": [
              "[1] 4.3"
            ]
          },
          "metadata": {}
        },
        {
          "output_type": "display_data",
          "data": {
            "text/html": [
              "'Odchylenie standardowe dla kolumny mean_perimeter:'"
            ],
            "text/markdown": "'Odchylenie standardowe dla kolumny mean_perimeter:'",
            "text/latex": "'Odchylenie standardowe dla kolumny mean\\_perimeter:'",
            "text/plain": [
              "[1] \"Odchylenie standardowe dla kolumny mean_perimeter:\""
            ]
          },
          "metadata": {}
        },
        {
          "output_type": "display_data",
          "data": {
            "text/html": [
              "24.3"
            ],
            "text/markdown": "24.3",
            "text/latex": "24.3",
            "text/plain": [
              "[1] 24.3"
            ]
          },
          "metadata": {}
        },
        {
          "output_type": "display_data",
          "data": {
            "text/html": [
              "'Odchylenie standardowe dla kolumny mean_area:'"
            ],
            "text/markdown": "'Odchylenie standardowe dla kolumny mean_area:'",
            "text/latex": "'Odchylenie standardowe dla kolumny mean\\_area:'",
            "text/plain": [
              "[1] \"Odchylenie standardowe dla kolumny mean_area:\""
            ]
          },
          "metadata": {}
        },
        {
          "output_type": "display_data",
          "data": {
            "text/html": [
              "351.91"
            ],
            "text/markdown": "351.91",
            "text/latex": "351.91",
            "text/plain": [
              "[1] 351.91"
            ]
          },
          "metadata": {}
        },
        {
          "output_type": "display_data",
          "data": {
            "text/html": [
              "'Odchylenie standardowe dla kolumny mean_smoothness:'"
            ],
            "text/markdown": "'Odchylenie standardowe dla kolumny mean_smoothness:'",
            "text/latex": "'Odchylenie standardowe dla kolumny mean\\_smoothness:'",
            "text/plain": [
              "[1] \"Odchylenie standardowe dla kolumny mean_smoothness:\""
            ]
          },
          "metadata": {}
        },
        {
          "output_type": "display_data",
          "data": {
            "text/html": [
              "0.014"
            ],
            "text/markdown": "0.014",
            "text/latex": "0.014",
            "text/plain": [
              "[1] 0.014"
            ]
          },
          "metadata": {}
        }
      ]
    },
    {
      "cell_type": "markdown",
      "source": [
        "###Rozstęp międzykwartylowy."
      ],
      "metadata": {
        "id": "l8cgXg-n1Nwb"
      }
    },
    {
      "cell_type": "code",
      "source": [
        "quant_vect<-c()\n",
        "sprintf(\"Rozstęp międzykwartylowy dla kolumny mean_radius:\")\n",
        "r <- as.numeric(quantile(unlist(data[,1]), probs=c(0, 0.75)))\n",
        "quant_vect <- append(quant_vect, r[2]-r[1])\n",
        "quant_vect[1]\n",
        "\n",
        "sprintf(\"Rozstęp międzykwartylowy dla kolumny mean_texture:\")\n",
        "r <- as.numeric(quantile(unlist(data[,2]), probs=c(0, 0.75)))\n",
        "quant_vect <- append(quant_vect, r[2]-r[1])\n",
        "quant_vect[2]\n",
        "\n",
        "sprintf(\"Rozstęp międzykwartylowy dla kolumny mean_texture:\")\n",
        "r <- as.numeric(quantile(unlist(data[,3]), probs=c(0, 0.75)))\n",
        "quant_vect <- append(quant_vect, r[2]-r[1])\n",
        "quant_vect[3]\n",
        "\n",
        "sprintf(\"Rozstęp międzykwartylowy dla kolumny mean_texture:\")\n",
        "r <- as.numeric(quantile(unlist(data[,4]), probs=c(0, 0.75)))\n",
        "quant_vect <- append(quant_vect, r[2]-r[1])\n",
        "quant_vect[4]\n",
        "\n",
        "sprintf(\"Rozstęp międzykwartylowy dla kolumny mean_texture:\")\n",
        "r <- as.numeric(quantile(unlist(data[,5]), probs=c(0, 0.75)))\n",
        "quant_vect <- append(quant_vect, round(r[2]-r[1],2))\n",
        "quant_vect[5]"
      ],
      "metadata": {
        "colab": {
          "base_uri": "https://localhost:8080/",
          "height": 191
        },
        "id": "hVitv2n_1TJa",
        "outputId": "d57212b5-db44-44af-dfb0-7ff1ef19aeba"
      },
      "execution_count": null,
      "outputs": [
        {
          "output_type": "display_data",
          "data": {
            "text/html": [
              "'Rozstęp międzykwartylowy dla kolumny mean_radius:'"
            ],
            "text/markdown": "'Rozstęp międzykwartylowy dla kolumny mean_radius:'",
            "text/latex": "'Rozstęp międzykwartylowy dla kolumny mean\\_radius:'",
            "text/plain": [
              "[1] \"Rozstęp międzykwartylowy dla kolumny mean_radius:\""
            ]
          },
          "metadata": {}
        },
        {
          "output_type": "display_data",
          "data": {
            "text/html": [
              "8.799"
            ],
            "text/markdown": "8.799",
            "text/latex": "8.799",
            "text/plain": [
              "[1] 8.799"
            ]
          },
          "metadata": {}
        },
        {
          "output_type": "display_data",
          "data": {
            "text/html": [
              "'Rozstęp międzykwartylowy dla kolumny mean_texture:'"
            ],
            "text/markdown": "'Rozstęp międzykwartylowy dla kolumny mean_texture:'",
            "text/latex": "'Rozstęp międzykwartylowy dla kolumny mean\\_texture:'",
            "text/plain": [
              "[1] \"Rozstęp międzykwartylowy dla kolumny mean_texture:\""
            ]
          },
          "metadata": {}
        },
        {
          "output_type": "display_data",
          "data": {
            "text/html": [
              "12.09"
            ],
            "text/markdown": "12.09",
            "text/latex": "12.09",
            "text/plain": [
              "[1] 12.09"
            ]
          },
          "metadata": {}
        },
        {
          "output_type": "display_data",
          "data": {
            "text/html": [
              "'Rozstęp międzykwartylowy dla kolumny mean_texture:'"
            ],
            "text/markdown": "'Rozstęp międzykwartylowy dla kolumny mean_texture:'",
            "text/latex": "'Rozstęp międzykwartylowy dla kolumny mean\\_texture:'",
            "text/plain": [
              "[1] \"Rozstęp międzykwartylowy dla kolumny mean_texture:\""
            ]
          },
          "metadata": {}
        },
        {
          "output_type": "display_data",
          "data": {
            "text/html": [
              "60.31"
            ],
            "text/markdown": "60.31",
            "text/latex": "60.31",
            "text/plain": [
              "[1] 60.31"
            ]
          },
          "metadata": {}
        },
        {
          "output_type": "display_data",
          "data": {
            "text/html": [
              "'Rozstęp międzykwartylowy dla kolumny mean_texture:'"
            ],
            "text/markdown": "'Rozstęp międzykwartylowy dla kolumny mean_texture:'",
            "text/latex": "'Rozstęp międzykwartylowy dla kolumny mean\\_texture:'",
            "text/plain": [
              "[1] \"Rozstęp międzykwartylowy dla kolumny mean_texture:\""
            ]
          },
          "metadata": {}
        },
        {
          "output_type": "display_data",
          "data": {
            "text/html": [
              "639.2"
            ],
            "text/markdown": "639.2",
            "text/latex": "639.2",
            "text/plain": [
              "[1] 639.2"
            ]
          },
          "metadata": {}
        },
        {
          "output_type": "display_data",
          "data": {
            "text/html": [
              "'Rozstęp międzykwartylowy dla kolumny mean_texture:'"
            ],
            "text/markdown": "'Rozstęp międzykwartylowy dla kolumny mean_texture:'",
            "text/latex": "'Rozstęp międzykwartylowy dla kolumny mean\\_texture:'",
            "text/plain": [
              "[1] \"Rozstęp międzykwartylowy dla kolumny mean_texture:\""
            ]
          },
          "metadata": {}
        },
        {
          "output_type": "display_data",
          "data": {
            "text/html": [
              "0.05"
            ],
            "text/markdown": "0.05",
            "text/latex": "0.05",
            "text/plain": [
              "[1] 0.05"
            ]
          },
          "metadata": {}
        }
      ]
    },
    {
      "cell_type": "markdown",
      "source": [
        "###Zestawienie danych w tabeli."
      ],
      "metadata": {
        "id": "2Y1TnLyvBtk5"
      }
    },
    {
      "cell_type": "code",
      "source": [
        "df<- data.frame(\"Rozstęp_danych\" = rozst_vect, \n",
        "                \"Wariancja\" = var_vect,\n",
        "                \"Odchylenie_standardowe\" = deviat_vect,\n",
        "                \"Rozstęp_międzykwartylowy\" = quant_vect)\n",
        "\n",
        "rownames(df)<-c(\"Mean_radius\",\"Mean_texture\", \"Mean_perimeter\", \"Mean_area\", \"Mean_smoothness\")\n",
        "df<-round(df,2)\n",
        "df"
      ],
      "metadata": {
        "id": "tdmxGK3dBuC6"
      },
      "execution_count": null,
      "outputs": []
    },
    {
      "cell_type": "markdown",
      "source": [
        "###Podsumowanie sekcji."
      ],
      "metadata": {
        "id": "WH9mlbYoHPMT"
      }
    },
    {
      "cell_type": "markdown",
      "source": [
        "###3.4. Dodatkowe wykresy."
      ],
      "metadata": {
        "id": "I0E5nMTHXCrJ"
      }
    },
    {
      "cell_type": "markdown",
      "source": [
        "###Wizualizacja danych dotyczących diagnozowania guzów łagodnych (0) oraz złośliwych/raków (1).\n",
        "\n",
        "Poniżej znajduje się diagram kołowy wizualizujący częstotliwość diagnozowania guzów łagodnych oraz złośliwych. \n",
        "Spośród 569 pacjentów zdiagnozowano 212 guzów łagodnych, co stanowi 62.74% rozpatrywanych przypadków oraz 357 guzów złośliwych, co stanowi 37.26% przypadków."
      ],
      "metadata": {
        "id": "mM0AWVbAaoDY"
      }
    },
    {
      "cell_type": "code",
      "source": [
        "złośliwy <- sum(data$diagnosis == 0)\n",
        "łagodny <- sum(data$diagnosis == 1)\n",
        "\n",
        "sprintf(\"Liczba zdiagnozowanych guzów złośliwych: %d\", złośliwy)\n",
        "sprintf(\"Liczba zdiagnozowanych guzów łagodnych: %d\", łagodny)\n",
        "slices <- c(złośliwy, łagodny)\n",
        "lbls <- c(\"złośliwy\", \"łagodny\")\n",
        "pr <- round(slices/sum(slices)*100, 2)\n",
        "lbls <- paste(lbls, pr) # dodanie procentów do nazw\n",
        "lbls <- paste(lbls,\"%\",sep=\"\") # dodanie % do nazw\n",
        "pie(slices, labels = lbls, main=\"Diagnozowanie guzów złośliwych i łagodnych\")"
      ],
      "metadata": {
        "colab": {
          "base_uri": "https://localhost:8080/",
          "height": 472
        },
        "id": "TRpxLF8rXLd0",
        "outputId": "9e897501-06b8-4a15-b645-5b962a1f56ee"
      },
      "execution_count": null,
      "outputs": [
        {
          "output_type": "display_data",
          "data": {
            "text/html": [
              "'Liczba zdiagnozowanych guzów złośliwych: 212'"
            ],
            "text/markdown": "'Liczba zdiagnozowanych guzów złośliwych: 212'",
            "text/latex": "'Liczba zdiagnozowanych guzów złośliwych: 212'",
            "text/plain": [
              "[1] \"Liczba zdiagnozowanych guzów złośliwych: 212\""
            ]
          },
          "metadata": {}
        },
        {
          "output_type": "display_data",
          "data": {
            "text/html": [
              "'Liczba zdiagnozowanych guzów łagodnych: 357'"
            ],
            "text/markdown": "'Liczba zdiagnozowanych guzów łagodnych: 357'",
            "text/latex": "'Liczba zdiagnozowanych guzów łagodnych: 357'",
            "text/plain": [
              "[1] \"Liczba zdiagnozowanych guzów łagodnych: 357\""
            ]
          },
          "metadata": {}
        },
        {
          "output_type": "display_data",
          "data": {
            "text/plain": [
              "Plot with title “Diagnozowanie guzów złośliwych i łagodnych”"
            ],
            "image/png": "[encoded data removed]"
          },
          "metadata": {
            "image/png": {
              "width": 420,
              "height": 420
            }
          }
        }
      ]
    }
  ]
}